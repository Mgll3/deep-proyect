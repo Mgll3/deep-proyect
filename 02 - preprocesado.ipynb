{
  "nbformat": 4,
  "nbformat_minor": 0,
  "metadata": {
    "colab": {
      "provenance": []
    },
    "kernelspec": {
      "name": "python3",
      "display_name": "Python 3"
    },
    "language_info": {
      "name": "python"
    }
  },
  "cells": [
    {
      "cell_type": "code",
      "execution_count": 9,
      "metadata": {
        "id": "YOJ22ceU4c5z"
      },
      "outputs": [],
      "source": []
    },
    {
      "cell_type": "markdown",
      "metadata": {
        "id": "MDqWJLSq58x9"
      },
      "source": [
        "## Importación de las librerías a usar"
      ]
    },
    {
      "cell_type": "code",
      "execution_count": 10,
      "metadata": {
        "id": "o0T3KR8-55n2",
        "colab": {
          "base_uri": "https://localhost:8080/"
        },
        "outputId": "f8c17ff1-85a9-4ac8-c0ac-8194cc1b5f4e"
      },
      "outputs": [
        {
          "output_type": "stream",
          "name": "stdout",
          "text": [
            "The tensorboard extension is already loaded. To reload it, use:\n",
            "  %reload_ext tensorboard\n"
          ]
        }
      ],
      "source": [
        "# Generación del alfabeto inglés\n",
        "import string\n",
        "alphabet = list(string.ascii_uppercase)\n",
        "alphabet = ['!'] + alphabet\n",
        "\n",
        "# Análisis exploratorio y estructura de la información\n",
        "import numpy as np\n",
        "import pandas as pd\n",
        "import matplotlib.pyplot as plt\n",
        "import seaborn as sns\n",
        "from sklearn.preprocessing import MinMaxScaler\n",
        "from itertools import product\n",
        "\n",
        "# Métricas de error y metodología de validación\n",
        "from sklearn.metrics import confusion_matrix, recall_score, precision_score, accuracy_score, ConfusionMatrixDisplay\n",
        "from sklearn.model_selection import KFold, train_test_split\n",
        "\n",
        "# Para embellecer las gráficas\n",
        "sns.set()\n",
        "\n",
        "\n",
        "import tensorflow as tf\n",
        "\n",
        "%matplotlib inline\n",
        "%load_ext tensorboard\n",
        "\n",
        "# from sklearn.datasets import *\n",
        "# from local.lib import mlutils\n",
        "# tf.__version__\n",
        "import pandas as pd\n",
        "import gdown\n",
        "\n"
      ]
    },
    {
      "cell_type": "markdown",
      "metadata": {
        "id": "uYJT5_kccAu-"
      },
      "source": [
        "## Dataset para entrenamiento"
      ]
    },
    {
      "cell_type": "code",
      "execution_count": 11,
      "metadata": {
        "colab": {
          "base_uri": "https://localhost:8080/"
        },
        "id": "EMBQKLzT6N3t",
        "outputId": "b1fdf45d-aaec-4995-f8ab-d415aa03eb64"
      },
      "outputs": [
        {
          "output_type": "stream",
          "name": "stderr",
          "text": [
            "Downloading...\n",
            "From: https://drive.google.com/uc?id=1j9wYmC-gjh2p7o4skayM1tgPFo2lzZb9\n",
            "To: /content/data.csv\n",
            "100%|██████████| 39.1M/39.1M [00:00<00:00, 222MB/s]\n"
          ]
        }
      ],
      "source": [
        "df_train = gdown.download('https://drive.google.com/uc?id=1j9wYmC-gjh2p7o4skayM1tgPFo2lzZb9', 'data.csv', quiet=False); df_train = pd.read_csv('data.csv')\n"
      ]
    },
    {
      "cell_type": "code",
      "execution_count": 12,
      "metadata": {
        "colab": {
          "base_uri": "https://localhost:8080/"
        },
        "id": "vxP7uaeq2MZz",
        "outputId": "7a8ad2f0-4504-4d94-a7b0-110d5dca2e68"
      },
      "outputs": [
        {
          "output_type": "execute_result",
          "data": {
            "text/plain": [
              "False"
            ]
          },
          "metadata": {},
          "execution_count": 12
        }
      ],
      "source": [
        "df_train.empty"
      ]
    },
    {
      "cell_type": "markdown",
      "metadata": {
        "id": "-SD7oTRc3NWk"
      },
      "source": []
    },
    {
      "cell_type": "code",
      "execution_count": 13,
      "metadata": {
        "id": "-AgHYkNCbU_R"
      },
      "outputs": [],
      "source": [
        "X_train = df_train.iloc[:,:-1]\n",
        "y_train = df_train.iloc[:,-1]"
      ]
    },
    {
      "cell_type": "code",
      "execution_count": 14,
      "metadata": {
        "colab": {
          "base_uri": "https://localhost:8080/"
        },
        "id": "uNOFGG6CYHp-",
        "outputId": "7e7b7873-c19d-4966-e796-1f64618ffb38"
      },
      "outputs": [
        {
          "output_type": "execute_result",
          "data": {
            "text/plain": [
              "array([[255, 255, 255, 255, 255, 255, 255, 255, 255, 255, 255, 255, 255,\n",
              "        255, 255, 255, 255, 255, 255, 255, 255, 255, 255, 255, 255, 255,\n",
              "        255, 255],\n",
              "       [255, 255, 255, 255, 255, 255, 255, 255, 255, 255, 255, 255, 255,\n",
              "        255, 255, 255, 255,   7,   1, 255, 255, 255, 255, 255, 255, 255,\n",
              "        255, 255],\n",
              "       [255, 255, 255, 255, 255, 255, 255, 255, 255, 255, 255, 255, 255,\n",
              "        255, 254, 254, 208, 254, 254, 254, 255, 255, 255, 255, 255, 255,\n",
              "        255, 255],\n",
              "       [255, 255, 255, 255, 255, 255, 255, 255, 255, 255, 255, 255, 255,\n",
              "        255, 255, 254,  46, 255, 253, 254,   1, 255, 255, 255, 255, 255,\n",
              "        255, 255],\n",
              "       [255, 255, 255, 255, 255, 255, 255, 255, 255, 255, 255, 255, 255,\n",
              "        254, 254, 255, 255,   1,   0, 255, 118, 255, 255, 255, 255, 255,\n",
              "        255, 255],\n",
              "       [255, 255, 255, 255, 255, 255, 255, 255, 255, 255, 255, 255, 255,\n",
              "          0, 255,   1, 253, 255,   1, 255, 254, 255, 255, 255, 255, 255,\n",
              "        255, 255],\n",
              "       [255, 255, 255, 255, 255, 255, 255, 255, 255, 255, 255, 255, 254,\n",
              "        254, 254,  13, 255, 254, 254, 255,   1, 254, 255, 255, 255, 255,\n",
              "        255, 255],\n",
              "       [255, 255, 255, 255, 255, 255, 255, 255, 255, 255, 255, 255,  28,\n",
              "        255, 253, 254,   0, 255, 255, 254, 118, 255, 255, 255, 255, 255,\n",
              "        255, 255],\n",
              "       [255, 255, 255, 255, 255, 255, 255, 255, 255, 255, 255, 255, 138,\n",
              "        254, 254, 253, 254,   0, 149, 254, 254, 254, 255, 255, 255, 255,\n",
              "        255, 255],\n",
              "       [255, 255, 255, 255, 255, 255, 255, 255, 255, 255, 255, 255, 255,\n",
              "          9,   0, 255, 255,   2, 255, 255, 255, 255, 255, 255, 255, 255,\n",
              "        255, 255],\n",
              "       [255, 255, 255, 255, 255, 255, 255, 255, 255, 255, 255, 254, 255,\n",
              "        254,   0, 255, 255, 254, 255, 254, 254, 255, 255, 255, 255, 255,\n",
              "        255, 255],\n",
              "       [255, 255, 255, 255, 255, 255, 255, 255, 255, 255, 255,   1, 255,\n",
              "        255,   8,   0, 254, 255, 255,   1, 254, 255, 255, 255, 255, 255,\n",
              "        255, 255],\n",
              "       [255, 255, 255, 255, 255, 255, 255, 255, 255, 255, 255,   0,   2,\n",
              "          2, 228, 255, 255,   0,  73, 100, 255, 254, 255, 255, 255, 255,\n",
              "        255, 255],\n",
              "       [255, 255, 255, 255, 255, 255, 255, 255, 255, 255, 252, 254,  36,\n",
              "        255, 255,   0,   1,   0,   3, 148, 255, 255, 255, 255, 255, 255,\n",
              "        255, 255],\n",
              "       [255, 255, 255, 255, 255, 255, 255, 255, 255, 255,   0, 254, 255,\n",
              "        255, 255, 255, 255, 253, 254, 255, 255, 255, 255, 255, 255, 253,\n",
              "        255, 255],\n",
              "       [255, 255, 255, 255, 255, 255, 255, 255, 255, 255,   4,   1, 255,\n",
              "        255,   3, 252, 255, 227,   1, 255, 255, 255, 255, 255, 255, 255,\n",
              "        255, 255],\n",
              "       [255, 255, 255, 255, 255, 255, 255, 255, 255, 255,   0, 254, 255,\n",
              "          2, 254, 213, 209, 255, 255, 255, 255, 255, 255, 255, 255, 255,\n",
              "        255, 255],\n",
              "       [255, 255, 255, 255, 255, 255, 255, 255, 255, 255,   0, 255, 255,\n",
              "        255,  71, 255,   3, 254,   1,   0,   1, 191, 255, 255, 255, 255,\n",
              "        255, 255],\n",
              "       [255, 255, 255, 255, 255, 255, 255, 255, 255, 254,   1, 255, 254,\n",
              "        255, 255, 255, 255, 211, 173, 255, 255, 255, 255, 255, 255, 255,\n",
              "        255, 255],\n",
              "       [255, 255, 255, 255, 255, 255, 255, 255, 255, 255,   2, 254, 255,\n",
              "        255, 255, 254, 253, 255, 255, 254, 255, 255, 255, 255, 255, 255,\n",
              "        255, 255],\n",
              "       [255, 255, 255, 255, 255, 255, 255, 255, 255, 255,   0, 142, 255,\n",
              "        255, 255, 255,  26,  65, 255, 255, 255, 254, 255, 255, 255, 255,\n",
              "        255, 255],\n",
              "       [255, 255, 255, 255, 255, 255, 255, 255, 255, 255, 254, 254, 255,\n",
              "        255, 255, 255, 208, 254, 255, 255, 255, 255, 255, 255, 255, 255,\n",
              "        255, 255],\n",
              "       [255, 255, 255, 255, 255, 255, 255, 255, 255, 255, 255, 254, 255,\n",
              "        255, 255, 255, 255, 255, 186, 255, 255,   1, 255, 255, 255, 255,\n",
              "        255, 255],\n",
              "       [255, 255, 255, 255, 255, 255, 255, 255, 255, 255, 255,   2, 255,\n",
              "        255, 255, 255, 255, 255, 255, 173, 216,   0, 255, 255, 255, 255,\n",
              "        255, 255],\n",
              "       [255, 255, 255, 255, 255, 255, 255, 255, 255, 255, 255,   1, 255,\n",
              "        254, 255, 255, 255, 254, 255, 255, 255, 136, 255, 255, 255, 255,\n",
              "        255, 255],\n",
              "       [255, 255, 255, 255, 255, 255, 255, 255, 255, 255, 255, 255, 255,\n",
              "        255, 255, 254, 255, 255, 255, 255, 254, 254, 255, 255, 255, 255,\n",
              "        255, 255],\n",
              "       [255, 255, 255, 255, 255, 255, 255, 255, 255, 255, 255, 255,   2,\n",
              "        255, 253, 254, 255, 255, 255, 255, 133, 253, 255, 255, 255, 255,\n",
              "        255, 255],\n",
              "       [255, 255, 255, 255, 255, 255, 255, 255, 255, 255, 255, 255,   0,\n",
              "        255, 255, 254, 255, 255,   0,   0,   0, 255, 255, 255, 255, 255,\n",
              "        255, 255]])"
            ]
          },
          "metadata": {},
          "execution_count": 14
        }
      ],
      "source": [
        "np.array(X_train.iloc[1000]).reshape(28,28)"
      ]
    },
    {
      "cell_type": "code",
      "execution_count": 15,
      "metadata": {
        "colab": {
          "base_uri": "https://localhost:8080/",
          "height": 0
        },
        "id": "ixaj9_9oX2cA",
        "outputId": "76908588-534e-4592-a12a-a05f4f1cb3d4"
      },
      "outputs": [
        {
          "output_type": "display_data",
          "data": {
            "text/plain": [
              "<Figure size 640x480 with 1 Axes>"
            ],
            "image/png": "[encoded data removed]"
          },
          "metadata": {}
        }
      ],
      "source": [
        "plt.imshow(np.array(X_train.iloc[1000]).reshape((28,28)), cmap=\"binary\")\n",
        "plt.show()"
      ]
    },
    {
      "cell_type": "markdown",
      "metadata": {
        "id": "hQ4b2-4jcEcc"
      },
      "source": [
        "\n",
        "## Dataset para test"
      ]
    },
    {
      "cell_type": "code",
      "execution_count": 16,
      "metadata": {
        "colab": {
          "base_uri": "https://localhost:8080/"
        },
        "id": "PQ_U0WlZscD0",
        "outputId": "d595eb30-4ea6-40ee-a8c0-61c98f68e90f"
      },
      "outputs": [
        {
          "output_type": "stream",
          "name": "stderr",
          "text": [
            "Downloading...\n",
            "From: https://drive.google.com/uc?id=1sPxsIUC4FlxiOaF7jcDc19L-cSsl9Ul9\n",
            "To: /content/data.csv\n",
            "100%|██████████| 13.0M/13.0M [00:00<00:00, 173MB/s]\n"
          ]
        },
        {
          "output_type": "stream",
          "name": "stdout",
          "text": [
            "Number of NaN values in 'label' column in df_test before dropping: 0\n",
            "Number of NaN values in 'label' column in df_test after dropping: 0\n"
          ]
        }
      ],
      "source": [
        "df_test = gdown.download('https://drive.google.com/uc?id=1sPxsIUC4FlxiOaF7jcDc19L-cSsl9Ul9', 'data.csv', quiet=False); df_train = pd.read_csv('data.csv')\n",
        "df_test = pd.read_csv('data.csv')\n",
        "\n",
        "# Check for NaN values in the 'label' column in the test dataset\n",
        "print(\"Number of NaN values in 'label' column in df_test before dropping:\", df_test.label.isna().sum())\n",
        "\n",
        "# Drop rows where the 'label' is NaN specifically from the test dataframe\n",
        "df_test.dropna(subset=['label'], inplace=True)\n",
        "\n",
        "# Re-check for NaN values (should be 0 if any were dropped)\n",
        "print(\"Number of NaN values in 'label' column in df_test after dropping:\", df_test.label.isna().sum())\n",
        "\n",
        "# Convert the 'label' column to integer type after dropping NaNs\n",
        "df_test['label'] = df_test['label'].astype(int)\n",
        "\n",
        "X_test = df_test.iloc[:,:-1]\n",
        "y_test = df_test.iloc[:,-1]"
      ]
    },
    {
      "cell_type": "code",
      "execution_count": 17,
      "metadata": {
        "id": "138s_EI9cIic"
      },
      "outputs": [],
      "source": [
        "X_test = df_test.iloc[:,:-1]\n",
        "y_test = df_test.iloc[:,-1]"
      ]
    },
    {
      "cell_type": "code",
      "source": [],
      "metadata": {
        "id": "YOy-oFie5QBG"
      },
      "execution_count": 17,
      "outputs": []
    },
    {
      "cell_type": "markdown",
      "metadata": {
        "id": "oBPzgLKsRnwL"
      },
      "source": [
        "## Redimensionamiento\n",
        "Hasta este punto, cada imagen se representa como un vector, sin embargo, dado que en el modelo de red neuronal convolucional nos interesa extraer información sobre la relación de un pixel con su alrededor, crearemos un nuevo dataset redimensionado para este modelo."
      ]
    },
    {
      "cell_type": "markdown",
      "metadata": {
        "id": "xUYY1-2_n5_i"
      },
      "source": [
        "Se escalan los conjuntos $X_{train}$ y $X_{test}$ con `MinMaxScaler` en base a $X_{train}$"
      ]
    },
    {
      "cell_type": "code",
      "execution_count": 18,
      "metadata": {
        "id": "8rsjOsI6VAcf"
      },
      "outputs": [],
      "source": [
        "scaler = MinMaxScaler()\n",
        "X_train_scaled = pd.DataFrame(scaler.fit_transform(X_train), index=X_train.index, columns=X_train.columns)\n",
        "X_test_scaled = pd.DataFrame(scaler.transform(X_test), index=X_test.index, columns=X_test.columns)"
      ]
    },
    {
      "cell_type": "code",
      "execution_count": 19,
      "metadata": {
        "id": "jJVeJQWUSv0F"
      },
      "outputs": [],
      "source": [
        "X_train_scaled_2d = np.reshape(np.array(X_train_scaled), (X_train_scaled.shape[0],28,28))\n",
        "y_train_array = np.array(y_train)\n",
        "\n",
        "X_test_scaled_2d = np.reshape(np.array(X_test_scaled), (X_test_scaled.shape[0],28,28))\n",
        "y_test_array = np.array(y_test)\n",
        "\n",
        "image = X_train_scaled_2d[1000]"
      ]
    },
    {
      "cell_type": "code",
      "execution_count": 20,
      "metadata": {
        "colab": {
          "base_uri": "https://localhost:8080/",
          "height": 434
        },
        "id": "yDuB8seFUFvz",
        "outputId": "cd322733-a298-432a-afa0-fc1a4e296bad"
      },
      "outputs": [
        {
          "output_type": "display_data",
          "data": {
            "text/plain": [
              "<Figure size 640x480 with 1 Axes>"
            ],
            "image/png": "[encoded data removed]"
          },
          "metadata": {}
        }
      ],
      "source": [
        "# Create a figure and axis\n",
        "fig, ax = plt.subplots()\n",
        "\n",
        "# Plot the image\n",
        "ax.imshow(image, cmap='binary')\n",
        "\n",
        "# Show the plot\n",
        "plt.show()"
      ]
    }
  ]
}