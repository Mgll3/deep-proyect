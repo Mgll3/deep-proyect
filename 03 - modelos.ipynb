{
  "cells": [
    {
      "cell_type": "markdown",
      "metadata": {
        "id": "MDqWJLSq58x9"
      },
      "source": [
        "## Importación de las librerías a usar"
      ]
    },
    {
      "cell_type": "code",
      "execution_count": 3,
      "metadata": {
        "id": "o0T3KR8-55n2",
        "colab": {
          "base_uri": "https://localhost:8080/"
        },
        "outputId": "fc3dc333-5fc5-492b-f5dc-516a87034c22"
      },
      "outputs": [
        {
          "output_type": "stream",
          "name": "stdout",
          "text": [
            "The tensorboard extension is already loaded. To reload it, use:\n",
            "  %reload_ext tensorboard\n"
          ]
        }
      ],
      "source": [
        "# Generación del alfabeto inglés\n",
        "import string\n",
        "alphabet = list(string.ascii_uppercase)\n",
        "alphabet = ['!'] + alphabet\n",
        "\n",
        "# Análisis exploratorio y estructura de la información\n",
        "import numpy as np\n",
        "import pandas as pd\n",
        "import matplotlib.pyplot as plt\n",
        "import seaborn as sns\n",
        "from sklearn.preprocessing import MinMaxScaler\n",
        "from itertools import product\n",
        "\n",
        "# Métricas de error y metodología de validación\n",
        "from sklearn.metrics import confusion_matrix, recall_score, precision_score, accuracy_score, ConfusionMatrixDisplay\n",
        "from sklearn.model_selection import KFold, train_test_split\n",
        "\n",
        "# Para embellecer las gráficas\n",
        "sns.set()\n",
        "\n",
        "\n",
        "import tensorflow as tf\n",
        "\n",
        "%matplotlib inline\n",
        "%load_ext tensorboard\n",
        "\n",
        "# from sklearn.datasets import *\n",
        "# from local.lib import mlutils\n",
        "# tf.__version__\n",
        "import pandas as pd\n",
        "import gdown\n",
        "\n"
      ]
    },
    {
      "cell_type": "markdown",
      "metadata": {
        "id": "qj5hTsxl6rY8"
      },
      "source": [
        "# Lectura y exploración del dataset"
      ]
    },
    {
      "cell_type": "markdown",
      "metadata": {
        "id": "uYJT5_kccAu-"
      },
      "source": [
        "## Dataset para entrenamiento"
      ]
    },
    {
      "cell_type": "code",
      "execution_count": 4,
      "metadata": {
        "colab": {
          "base_uri": "https://localhost:8080/"
        },
        "id": "EMBQKLzT6N3t",
        "outputId": "2eab981d-372a-4b33-a82f-bc1bc7bbd24b"
      },
      "outputs": [
        {
          "output_type": "stream",
          "name": "stderr",
          "text": [
            "Downloading...\n",
            "From: https://drive.google.com/uc?id=1j9wYmC-gjh2p7o4skayM1tgPFo2lzZb9\n",
            "To: /content/data.csv\n",
            "100%|██████████| 39.1M/39.1M [00:00<00:00, 75.0MB/s]\n"
          ]
        }
      ],
      "source": [
        "df_train = gdown.download('https://drive.google.com/uc?id=1j9wYmC-gjh2p7o4skayM1tgPFo2lzZb9', 'data.csv', quiet=False); df_train = pd.read_csv('data.csv')\n"
      ]
    },
    {
      "cell_type": "code",
      "execution_count": 5,
      "metadata": {
        "colab": {
          "base_uri": "https://localhost:8080/"
        },
        "id": "vxP7uaeq2MZz",
        "outputId": "a422f086-226b-4d40-ab6e-0c2efa6ca1bd"
      },
      "outputs": [
        {
          "output_type": "execute_result",
          "data": {
            "text/plain": [
              "False"
            ]
          },
          "metadata": {},
          "execution_count": 5
        }
      ],
      "source": [
        "df_train.empty"
      ]
    },
    {
      "cell_type": "markdown",
      "metadata": {
        "id": "-SD7oTRc3NWk"
      },
      "source": []
    },
    {
      "cell_type": "code",
      "execution_count": 6,
      "metadata": {
        "id": "-AgHYkNCbU_R"
      },
      "outputs": [],
      "source": [
        "X_train = df_train.iloc[:,:-1]\n",
        "y_train = df_train.iloc[:,-1]"
      ]
    },
    {
      "cell_type": "code",
      "execution_count": 7,
      "metadata": {
        "colab": {
          "base_uri": "https://localhost:8080/"
        },
        "id": "uNOFGG6CYHp-",
        "outputId": "25ebc9b1-a309-46d0-b465-0de3b82e7e0b"
      },
      "outputs": [
        {
          "output_type": "execute_result",
          "data": {
            "text/plain": [
              "array([[255, 255, 255, 255, 255, 255, 255, 255, 255, 255, 255, 255, 255,\n",
              "        255, 255, 255, 255, 255, 255, 255, 255, 255, 255, 255, 255, 255,\n",
              "        255, 255],\n",
              "       [255, 255, 255, 255, 255, 255, 255, 255, 255, 255, 255, 255, 255,\n",
              "        255, 255, 255, 255,   7,   1, 255, 255, 255, 255, 255, 255, 255,\n",
              "        255, 255],\n",
              "       [255, 255, 255, 255, 255, 255, 255, 255, 255, 255, 255, 255, 255,\n",
              "        255, 254, 254, 208, 254, 254, 254, 255, 255, 255, 255, 255, 255,\n",
              "        255, 255],\n",
              "       [255, 255, 255, 255, 255, 255, 255, 255, 255, 255, 255, 255, 255,\n",
              "        255, 255, 254,  46, 255, 253, 254,   1, 255, 255, 255, 255, 255,\n",
              "        255, 255],\n",
              "       [255, 255, 255, 255, 255, 255, 255, 255, 255, 255, 255, 255, 255,\n",
              "        254, 254, 255, 255,   1,   0, 255, 118, 255, 255, 255, 255, 255,\n",
              "        255, 255],\n",
              "       [255, 255, 255, 255, 255, 255, 255, 255, 255, 255, 255, 255, 255,\n",
              "          0, 255,   1, 253, 255,   1, 255, 254, 255, 255, 255, 255, 255,\n",
              "        255, 255],\n",
              "       [255, 255, 255, 255, 255, 255, 255, 255, 255, 255, 255, 255, 254,\n",
              "        254, 254,  13, 255, 254, 254, 255,   1, 254, 255, 255, 255, 255,\n",
              "        255, 255],\n",
              "       [255, 255, 255, 255, 255, 255, 255, 255, 255, 255, 255, 255,  28,\n",
              "        255, 253, 254,   0, 255, 255, 254, 118, 255, 255, 255, 255, 255,\n",
              "        255, 255],\n",
              "       [255, 255, 255, 255, 255, 255, 255, 255, 255, 255, 255, 255, 138,\n",
              "        254, 254, 253, 254,   0, 149, 254, 254, 254, 255, 255, 255, 255,\n",
              "        255, 255],\n",
              "       [255, 255, 255, 255, 255, 255, 255, 255, 255, 255, 255, 255, 255,\n",
              "          9,   0, 255, 255,   2, 255, 255, 255, 255, 255, 255, 255, 255,\n",
              "        255, 255],\n",
              "       [255, 255, 255, 255, 255, 255, 255, 255, 255, 255, 255, 254, 255,\n",
              "        254,   0, 255, 255, 254, 255, 254, 254, 255, 255, 255, 255, 255,\n",
              "        255, 255],\n",
              "       [255, 255, 255, 255, 255, 255, 255, 255, 255, 255, 255,   1, 255,\n",
              "        255,   8,   0, 254, 255, 255,   1, 254, 255, 255, 255, 255, 255,\n",
              "        255, 255],\n",
              "       [255, 255, 255, 255, 255, 255, 255, 255, 255, 255, 255,   0,   2,\n",
              "          2, 228, 255, 255,   0,  73, 100, 255, 254, 255, 255, 255, 255,\n",
              "        255, 255],\n",
              "       [255, 255, 255, 255, 255, 255, 255, 255, 255, 255, 252, 254,  36,\n",
              "        255, 255,   0,   1,   0,   3, 148, 255, 255, 255, 255, 255, 255,\n",
              "        255, 255],\n",
              "       [255, 255, 255, 255, 255, 255, 255, 255, 255, 255,   0, 254, 255,\n",
              "        255, 255, 255, 255, 253, 254, 255, 255, 255, 255, 255, 255, 253,\n",
              "        255, 255],\n",
              "       [255, 255, 255, 255, 255, 255, 255, 255, 255, 255,   4,   1, 255,\n",
              "        255,   3, 252, 255, 227,   1, 255, 255, 255, 255, 255, 255, 255,\n",
              "        255, 255],\n",
              "       [255, 255, 255, 255, 255, 255, 255, 255, 255, 255,   0, 254, 255,\n",
              "          2, 254, 213, 209, 255, 255, 255, 255, 255, 255, 255, 255, 255,\n",
              "        255, 255],\n",
              "       [255, 255, 255, 255, 255, 255, 255, 255, 255, 255,   0, 255, 255,\n",
              "        255,  71, 255,   3, 254,   1,   0,   1, 191, 255, 255, 255, 255,\n",
              "        255, 255],\n",
              "       [255, 255, 255, 255, 255, 255, 255, 255, 255, 254,   1, 255, 254,\n",
              "        255, 255, 255, 255, 211, 173, 255, 255, 255, 255, 255, 255, 255,\n",
              "        255, 255],\n",
              "       [255, 255, 255, 255, 255, 255, 255, 255, 255, 255,   2, 254, 255,\n",
              "        255, 255, 254, 253, 255, 255, 254, 255, 255, 255, 255, 255, 255,\n",
              "        255, 255],\n",
              "       [255, 255, 255, 255, 255, 255, 255, 255, 255, 255,   0, 142, 255,\n",
              "        255, 255, 255,  26,  65, 255, 255, 255, 254, 255, 255, 255, 255,\n",
              "        255, 255],\n",
              "       [255, 255, 255, 255, 255, 255, 255, 255, 255, 255, 254, 254, 255,\n",
              "        255, 255, 255, 208, 254, 255, 255, 255, 255, 255, 255, 255, 255,\n",
              "        255, 255],\n",
              "       [255, 255, 255, 255, 255, 255, 255, 255, 255, 255, 255, 254, 255,\n",
              "        255, 255, 255, 255, 255, 186, 255, 255,   1, 255, 255, 255, 255,\n",
              "        255, 255],\n",
              "       [255, 255, 255, 255, 255, 255, 255, 255, 255, 255, 255,   2, 255,\n",
              "        255, 255, 255, 255, 255, 255, 173, 216,   0, 255, 255, 255, 255,\n",
              "        255, 255],\n",
              "       [255, 255, 255, 255, 255, 255, 255, 255, 255, 255, 255,   1, 255,\n",
              "        254, 255, 255, 255, 254, 255, 255, 255, 136, 255, 255, 255, 255,\n",
              "        255, 255],\n",
              "       [255, 255, 255, 255, 255, 255, 255, 255, 255, 255, 255, 255, 255,\n",
              "        255, 255, 254, 255, 255, 255, 255, 254, 254, 255, 255, 255, 255,\n",
              "        255, 255],\n",
              "       [255, 255, 255, 255, 255, 255, 255, 255, 255, 255, 255, 255,   2,\n",
              "        255, 253, 254, 255, 255, 255, 255, 133, 253, 255, 255, 255, 255,\n",
              "        255, 255],\n",
              "       [255, 255, 255, 255, 255, 255, 255, 255, 255, 255, 255, 255,   0,\n",
              "        255, 255, 254, 255, 255,   0,   0,   0, 255, 255, 255, 255, 255,\n",
              "        255, 255]])"
            ]
          },
          "metadata": {},
          "execution_count": 7
        }
      ],
      "source": [
        "np.array(X_train.iloc[1000]).reshape(28,28)"
      ]
    },
    {
      "cell_type": "code",
      "execution_count": 8,
      "metadata": {
        "colab": {
          "base_uri": "https://localhost:8080/",
          "height": 0
        },
        "id": "ixaj9_9oX2cA",
        "outputId": "6c85fd7d-edae-49ed-cca9-4fa6fd265744"
      },
      "outputs": [
        {
          "output_type": "display_data",
          "data": {
            "text/plain": [
              "<Figure size 640x480 with 1 Axes>"
            ],
            "image/png": "[encoded data removed]"
          },
          "metadata": {}
        }
      ],
      "source": [
        "plt.imshow(np.array(X_train.iloc[1000]).reshape((28,28)), cmap=\"binary\")\n",
        "plt.show()"
      ]
    },
    {
      "cell_type": "markdown",
      "metadata": {
        "id": "hQ4b2-4jcEcc"
      },
      "source": [
        "\n",
        "## Dataset para test"
      ]
    },
    {
      "cell_type": "code",
      "execution_count": 9,
      "metadata": {
        "colab": {
          "base_uri": "https://localhost:8080/"
        },
        "id": "PQ_U0WlZscD0",
        "outputId": "b14c247d-024b-4d04-e91f-1bd0e3211402"
      },
      "outputs": [
        {
          "output_type": "stream",
          "name": "stderr",
          "text": [
            "Downloading...\n",
            "From: https://drive.google.com/uc?id=1sPxsIUC4FlxiOaF7jcDc19L-cSsl9Ul9\n",
            "To: /content/data.csv\n",
            "100%|██████████| 13.0M/13.0M [00:00<00:00, 62.9MB/s]\n"
          ]
        },
        {
          "output_type": "stream",
          "name": "stdout",
          "text": [
            "Number of NaN values in 'label' column in df_test before dropping: 0\n",
            "Number of NaN values in 'label' column in df_test after dropping: 0\n"
          ]
        }
      ],
      "source": [
        "df_test = gdown.download('https://drive.google.com/uc?id=1sPxsIUC4FlxiOaF7jcDc19L-cSsl9Ul9', 'data.csv', quiet=False); df_train = pd.read_csv('data.csv')\n",
        "df_test = pd.read_csv('data.csv')\n",
        "\n",
        "# Check for NaN values in the 'label' column in the test dataset\n",
        "print(\"Number of NaN values in 'label' column in df_test before dropping:\", df_test.label.isna().sum())\n",
        "\n",
        "# Drop rows where the 'label' is NaN specifically from the test dataframe\n",
        "df_test.dropna(subset=['label'], inplace=True)\n",
        "\n",
        "# Re-check for NaN values (should be 0 if any were dropped)\n",
        "print(\"Number of NaN values in 'label' column in df_test after dropping:\", df_test.label.isna().sum())\n",
        "\n",
        "# Convert the 'label' column to integer type after dropping NaNs\n",
        "df_test['label'] = df_test['label'].astype(int)\n",
        "\n",
        "X_test = df_test.iloc[:,:-1]\n",
        "y_test = df_test.iloc[:,-1]"
      ]
    },
    {
      "cell_type": "code",
      "execution_count": 10,
      "metadata": {
        "id": "138s_EI9cIic"
      },
      "outputs": [],
      "source": [
        "X_test = df_test.iloc[:,:-1]\n",
        "y_test = df_test.iloc[:,-1]"
      ]
    },
    {
      "cell_type": "markdown",
      "metadata": {
        "id": "-4mQhWrBccTO"
      },
      "source": [
        "## Análisis de los dataset unidos"
      ]
    },
    {
      "cell_type": "code",
      "execution_count": 11,
      "metadata": {
        "colab": {
          "base_uri": "https://localhost:8080/",
          "height": 0
        },
        "id": "m_2-AbSYOmp8",
        "outputId": "a1c128ca-e615-49b0-c78e-650d0f97aba2"
      },
      "outputs": [
        {
          "output_type": "execute_result",
          "data": {
            "text/plain": [
              "      pixel_0  pixel_1  pixel_2  pixel_3  pixel_4  pixel_5  pixel_6  pixel_7  \\\n",
              "0         255      255      255      255      255      255      255      255   \n",
              "1         255      255      255      255      255      255      255      255   \n",
              "2         255      255      255      255      255      255      255      255   \n",
              "3         255      255      255      255      255      255      255      255   \n",
              "4         255      255      255      255      255      255      253      255   \n",
              "...       ...      ...      ...      ...      ...      ...      ...      ...   \n",
              "4262      255      255      255      255      255      255      255      255   \n",
              "4263      255      255      255      255      255      255      255      255   \n",
              "4264      255      255      255      255      255      255      255      255   \n",
              "4265      255      255      255      252      255      255      255      255   \n",
              "4266      255      255      255      255      255      255      255      255   \n",
              "\n",
              "      pixel_8  pixel_9  ...  pixel_775  pixel_776  pixel_777  pixel_778  \\\n",
              "0         255      255  ...        255        255        255        255   \n",
              "1         255      255  ...        255        255        255        255   \n",
              "2         255      255  ...        255        255        255        255   \n",
              "3         255      255  ...        255        255        255        255   \n",
              "4         255      255  ...        255        255        255        255   \n",
              "...       ...      ...  ...        ...        ...        ...        ...   \n",
              "4262      255      255  ...        255        255        255        255   \n",
              "4263      255      255  ...        255        255        255        255   \n",
              "4264      255      255  ...        255        255        255        255   \n",
              "4265      255      255  ...        255        255        255        255   \n",
              "4266      255      255  ...        255        255        255        255   \n",
              "\n",
              "      pixel_779  pixel_780  pixel_781  pixel_782  pixel_783  label  \n",
              "0           255        255        255        255        255      0  \n",
              "1           255        255        255        255        255      0  \n",
              "2           255        255        255        255        255      0  \n",
              "3           255        255        255        255        255      0  \n",
              "4           255        255        255        255        255      0  \n",
              "...         ...        ...        ...        ...        ...    ...  \n",
              "4262        255        255        255        255        255     26  \n",
              "4263        255        255        255        255        255     26  \n",
              "4264        255        255        255        255        255     26  \n",
              "4265        255        255        255        255        255     26  \n",
              "4266        255        255        255        255        255     26  \n",
              "\n",
              "[8534 rows x 785 columns]"
            ],
            "text/html": [
              "\n",
              "  <div id=\"df-b95fab28-97fb-4822-8a1d-d2fb87b6a54e\" class=\"colab-df-container\">\n",
              "    <div>\n",
              "<style scoped>\n",
              "    .dataframe tbody tr th:only-of-type {\n",
              "        vertical-align: middle;\n",
              "    }\n",
              "\n",
              "    .dataframe tbody tr th {\n",
              "        vertical-align: top;\n",
              "    }\n",
              "\n",
              "    .dataframe thead th {\n",
              "        text-align: right;\n",
              "    }\n",
              "</style>\n",
              "<table border=\"1\" class=\"dataframe\">\n",
              "  <thead>\n",
              "    <tr style=\"text-align: right;\">\n",
              "      <th></th>\n",
              "      <th>pixel_0</th>\n",
              "      <th>pixel_1</th>\n",
              "      <th>pixel_2</th>\n",
              "      <th>pixel_3</th>\n",
              "      <th>pixel_4</th>\n",
              "      <th>pixel_5</th>\n",
              "      <th>pixel_6</th>\n",
              "      <th>pixel_7</th>\n",
              "      <th>pixel_8</th>\n",
              "      <th>pixel_9</th>\n",
              "      <th>...</th>\n",
              "      <th>pixel_775</th>\n",
              "      <th>pixel_776</th>\n",
              "      <th>pixel_777</th>\n",
              "      <th>pixel_778</th>\n",
              "      <th>pixel_779</th>\n",
              "      <th>pixel_780</th>\n",
              "      <th>pixel_781</th>\n",
              "      <th>pixel_782</th>\n",
              "      <th>pixel_783</th>\n",
              "      <th>label</th>\n",
              "    </tr>\n",
              "  </thead>\n",
              "  <tbody>\n",
              "    <tr>\n",
              "      <th>0</th>\n",
              "      <td>255</td>\n",
              "      <td>255</td>\n",
              "      <td>255</td>\n",
              "      <td>255</td>\n",
              "      <td>255</td>\n",
              "      <td>255</td>\n",
              "      <td>255</td>\n",
              "      <td>255</td>\n",
              "      <td>255</td>\n",
              "      <td>255</td>\n",
              "      <td>...</td>\n",
              "      <td>255</td>\n",
              "      <td>255</td>\n",
              "      <td>255</td>\n",
              "      <td>255</td>\n",
              "      <td>255</td>\n",
              "      <td>255</td>\n",
              "      <td>255</td>\n",
              "      <td>255</td>\n",
              "      <td>255</td>\n",
              "      <td>0</td>\n",
              "    </tr>\n",
              "    <tr>\n",
              "      <th>1</th>\n",
              "      <td>255</td>\n",
              "      <td>255</td>\n",
              "      <td>255</td>\n",
              "      <td>255</td>\n",
              "      <td>255</td>\n",
              "      <td>255</td>\n",
              "      <td>255</td>\n",
              "      <td>255</td>\n",
              "      <td>255</td>\n",
              "      <td>255</td>\n",
              "      <td>...</td>\n",
              "      <td>255</td>\n",
              "      <td>255</td>\n",
              "      <td>255</td>\n",
              "      <td>255</td>\n",
              "      <td>255</td>\n",
              "      <td>255</td>\n",
              "      <td>255</td>\n",
              "      <td>255</td>\n",
              "      <td>255</td>\n",
              "      <td>0</td>\n",
              "    </tr>\n",
              "    <tr>\n",
              "      <th>2</th>\n",
              "      <td>255</td>\n",
              "      <td>255</td>\n",
              "      <td>255</td>\n",
              "      <td>255</td>\n",
              "      <td>255</td>\n",
              "      <td>255</td>\n",
              "      <td>255</td>\n",
              "      <td>255</td>\n",
              "      <td>255</td>\n",
              "      <td>255</td>\n",
              "      <td>...</td>\n",
              "      <td>255</td>\n",
              "      <td>255</td>\n",
              "      <td>255</td>\n",
              "      <td>255</td>\n",
              "      <td>255</td>\n",
              "      <td>255</td>\n",
              "      <td>255</td>\n",
              "      <td>255</td>\n",
              "      <td>255</td>\n",
              "      <td>0</td>\n",
              "    </tr>\n",
              "    <tr>\n",
              "      <th>3</th>\n",
              "      <td>255</td>\n",
              "      <td>255</td>\n",
              "      <td>255</td>\n",
              "      <td>255</td>\n",
              "      <td>255</td>\n",
              "      <td>255</td>\n",
              "      <td>255</td>\n",
              "      <td>255</td>\n",
              "      <td>255</td>\n",
              "      <td>255</td>\n",
              "      <td>...</td>\n",
              "      <td>255</td>\n",
              "      <td>255</td>\n",
              "      <td>255</td>\n",
              "      <td>255</td>\n",
              "      <td>255</td>\n",
              "      <td>255</td>\n",
              "      <td>255</td>\n",
              "      <td>255</td>\n",
              "      <td>255</td>\n",
              "      <td>0</td>\n",
              "    </tr>\n",
              "    <tr>\n",
              "      <th>4</th>\n",
              "      <td>255</td>\n",
              "      <td>255</td>\n",
              "      <td>255</td>\n",
              "      <td>255</td>\n",
              "      <td>255</td>\n",
              "      <td>255</td>\n",
              "      <td>253</td>\n",
              "      <td>255</td>\n",
              "      <td>255</td>\n",
              "      <td>255</td>\n",
              "      <td>...</td>\n",
              "      <td>255</td>\n",
              "      <td>255</td>\n",
              "      <td>255</td>\n",
              "      <td>255</td>\n",
              "      <td>255</td>\n",
              "      <td>255</td>\n",
              "      <td>255</td>\n",
              "      <td>255</td>\n",
              "      <td>255</td>\n",
              "      <td>0</td>\n",
              "    </tr>\n",
              "    <tr>\n",
              "      <th>...</th>\n",
              "      <td>...</td>\n",
              "      <td>...</td>\n",
              "      <td>...</td>\n",
              "      <td>...</td>\n",
              "      <td>...</td>\n",
              "      <td>...</td>\n",
              "      <td>...</td>\n",
              "      <td>...</td>\n",
              "      <td>...</td>\n",
              "      <td>...</td>\n",
              "      <td>...</td>\n",
              "      <td>...</td>\n",
              "      <td>...</td>\n",
              "      <td>...</td>\n",
              "      <td>...</td>\n",
              "      <td>...</td>\n",
              "      <td>...</td>\n",
              "      <td>...</td>\n",
              "      <td>...</td>\n",
              "      <td>...</td>\n",
              "      <td>...</td>\n",
              "    </tr>\n",
              "    <tr>\n",
              "      <th>4262</th>\n",
              "      <td>255</td>\n",
              "      <td>255</td>\n",
              "      <td>255</td>\n",
              "      <td>255</td>\n",
              "      <td>255</td>\n",
              "      <td>255</td>\n",
              "      <td>255</td>\n",
              "      <td>255</td>\n",
              "      <td>255</td>\n",
              "      <td>255</td>\n",
              "      <td>...</td>\n",
              "      <td>255</td>\n",
              "      <td>255</td>\n",
              "      <td>255</td>\n",
              "      <td>255</td>\n",
              "      <td>255</td>\n",
              "      <td>255</td>\n",
              "      <td>255</td>\n",
              "      <td>255</td>\n",
              "      <td>255</td>\n",
              "      <td>26</td>\n",
              "    </tr>\n",
              "    <tr>\n",
              "      <th>4263</th>\n",
              "      <td>255</td>\n",
              "      <td>255</td>\n",
              "      <td>255</td>\n",
              "      <td>255</td>\n",
              "      <td>255</td>\n",
              "      <td>255</td>\n",
              "      <td>255</td>\n",
              "      <td>255</td>\n",
              "      <td>255</td>\n",
              "      <td>255</td>\n",
              "      <td>...</td>\n",
              "      <td>255</td>\n",
              "      <td>255</td>\n",
              "      <td>255</td>\n",
              "      <td>255</td>\n",
              "      <td>255</td>\n",
              "      <td>255</td>\n",
              "      <td>255</td>\n",
              "      <td>255</td>\n",
              "      <td>255</td>\n",
              "      <td>26</td>\n",
              "    </tr>\n",
              "    <tr>\n",
              "      <th>4264</th>\n",
              "      <td>255</td>\n",
              "      <td>255</td>\n",
              "      <td>255</td>\n",
              "      <td>255</td>\n",
              "      <td>255</td>\n",
              "      <td>255</td>\n",
              "      <td>255</td>\n",
              "      <td>255</td>\n",
              "      <td>255</td>\n",
              "      <td>255</td>\n",
              "      <td>...</td>\n",
              "      <td>255</td>\n",
              "      <td>255</td>\n",
              "      <td>255</td>\n",
              "      <td>255</td>\n",
              "      <td>255</td>\n",
              "      <td>255</td>\n",
              "      <td>255</td>\n",
              "      <td>255</td>\n",
              "      <td>255</td>\n",
              "      <td>26</td>\n",
              "    </tr>\n",
              "    <tr>\n",
              "      <th>4265</th>\n",
              "      <td>255</td>\n",
              "      <td>255</td>\n",
              "      <td>255</td>\n",
              "      <td>252</td>\n",
              "      <td>255</td>\n",
              "      <td>255</td>\n",
              "      <td>255</td>\n",
              "      <td>255</td>\n",
              "      <td>255</td>\n",
              "      <td>255</td>\n",
              "      <td>...</td>\n",
              "      <td>255</td>\n",
              "      <td>255</td>\n",
              "      <td>255</td>\n",
              "      <td>255</td>\n",
              "      <td>255</td>\n",
              "      <td>255</td>\n",
              "      <td>255</td>\n",
              "      <td>255</td>\n",
              "      <td>255</td>\n",
              "      <td>26</td>\n",
              "    </tr>\n",
              "    <tr>\n",
              "      <th>4266</th>\n",
              "      <td>255</td>\n",
              "      <td>255</td>\n",
              "      <td>255</td>\n",
              "      <td>255</td>\n",
              "      <td>255</td>\n",
              "      <td>255</td>\n",
              "      <td>255</td>\n",
              "      <td>255</td>\n",
              "      <td>255</td>\n",
              "      <td>255</td>\n",
              "      <td>...</td>\n",
              "      <td>255</td>\n",
              "      <td>255</td>\n",
              "      <td>255</td>\n",
              "      <td>255</td>\n",
              "      <td>255</td>\n",
              "      <td>255</td>\n",
              "      <td>255</td>\n",
              "      <td>255</td>\n",
              "      <td>255</td>\n",
              "      <td>26</td>\n",
              "    </tr>\n",
              "  </tbody>\n",
              "</table>\n",
              "<p>8534 rows × 785 columns</p>\n",
              "</div>\n",
              "    <div class=\"colab-df-buttons\">\n",
              "\n",
              "  <div class=\"colab-df-container\">\n",
              "    <button class=\"colab-df-convert\" onclick=\"convertToInteractive('df-b95fab28-97fb-4822-8a1d-d2fb87b6a54e')\"\n",
              "            title=\"Convert this dataframe to an interactive table.\"\n",
              "            style=\"display:none;\">\n",
              "\n",
              "  <svg xmlns=\"http://www.w3.org/2000/svg\" height=\"24px\" viewBox=\"0 -960 960 960\">\n",
              "    <path d=\"M120-120v-720h720v720H120Zm60-500h600v-160H180v160Zm220 220h160v-160H400v160Zm0 220h160v-160H400v160ZM180-400h160v-160H180v160Zm440 0h160v-160H620v160ZM180-180h160v-160H180v160Zm440 0h160v-160H620v160Z\"/>\n",
              "  </svg>\n",
              "    </button>\n",
              "\n",
              "  <style>\n",
              "    .colab-df-container {\n",
              "      display:flex;\n",
              "      gap: 12px;\n",
              "    }\n",
              "\n",
              "    .colab-df-convert {\n",
              "      background-color: #E8F0FE;\n",
              "      border: none;\n",
              "      border-radius: 50%;\n",
              "      cursor: pointer;\n",
              "      display: none;\n",
              "      fill: #1967D2;\n",
              "      height: 32px;\n",
              "      padding: 0 0 0 0;\n",
              "      width: 32px;\n",
              "    }\n",
              "\n",
              "    .colab-df-convert:hover {\n",
              "      background-color: #E2EBFA;\n",
              "      box-shadow: 0px 1px 2px rgba(60, 64, 67, 0.3), 0px 1px 3px 1px rgba(60, 64, 67, 0.15);\n",
              "      fill: #174EA6;\n",
              "    }\n",
              "\n",
              "    .colab-df-buttons div {\n",
              "      margin-bottom: 4px;\n",
              "    }\n",
              "\n",
              "    [theme=dark] .colab-df-convert {\n",
              "      background-color: #3B4455;\n",
              "      fill: #D2E3FC;\n",
              "    }\n",
              "\n",
              "    [theme=dark] .colab-df-convert:hover {\n",
              "      background-color: #434B5C;\n",
              "      box-shadow: 0px 1px 3px 1px rgba(0, 0, 0, 0.15);\n",
              "      filter: drop-shadow(0px 1px 2px rgba(0, 0, 0, 0.3));\n",
              "      fill: #FFFFFF;\n",
              "    }\n",
              "  </style>\n",
              "\n",
              "    <script>\n",
              "      const buttonEl =\n",
              "        document.querySelector('#df-b95fab28-97fb-4822-8a1d-d2fb87b6a54e button.colab-df-convert');\n",
              "      buttonEl.style.display =\n",
              "        google.colab.kernel.accessAllowed ? 'block' : 'none';\n",
              "\n",
              "      async function convertToInteractive(key) {\n",
              "        const element = document.querySelector('#df-b95fab28-97fb-4822-8a1d-d2fb87b6a54e');\n",
              "        const dataTable =\n",
              "          await google.colab.kernel.invokeFunction('convertToInteractive',\n",
              "                                                    [key], {});\n",
              "        if (!dataTable) return;\n",
              "\n",
              "        const docLinkHtml = 'Like what you see? Visit the ' +\n",
              "          '<a target=\"_blank\" href=https://colab.research.google.com/notebooks/data_table.ipynb>data table notebook</a>'\n",
              "          + ' to learn more about interactive tables.';\n",
              "        element.innerHTML = '';\n",
              "        dataTable['output_type'] = 'display_data';\n",
              "        await google.colab.output.renderOutput(dataTable, element);\n",
              "        const docLink = document.createElement('div');\n",
              "        docLink.innerHTML = docLinkHtml;\n",
              "        element.appendChild(docLink);\n",
              "      }\n",
              "    </script>\n",
              "  </div>\n",
              "\n",
              "\n",
              "    <div id=\"df-43956163-f00b-46ef-b6c1-40fc66972e4c\">\n",
              "      <button class=\"colab-df-quickchart\" onclick=\"quickchart('df-43956163-f00b-46ef-b6c1-40fc66972e4c')\"\n",
              "                title=\"Suggest charts\"\n",
              "                style=\"display:none;\">\n",
              "\n",
              "<svg xmlns=\"http://www.w3.org/2000/svg\" height=\"24px\"viewBox=\"0 0 24 24\"\n",
              "     width=\"24px\">\n",
              "    <g>\n",
              "        <path d=\"M19 3H5c-1.1 0-2 .9-2 2v14c0 1.1.9 2 2 2h14c1.1 0 2-.9 2-2V5c0-1.1-.9-2-2-2zM9 17H7v-7h2v7zm4 0h-2V7h2v10zm4 0h-2v-4h2v4z\"/>\n",
              "    </g>\n",
              "</svg>\n",
              "      </button>\n",
              "\n",
              "<style>\n",
              "  .colab-df-quickchart {\n",
              "      --bg-color: #E8F0FE;\n",
              "      --fill-color: #1967D2;\n",
              "      --hover-bg-color: #E2EBFA;\n",
              "      --hover-fill-color: #174EA6;\n",
              "      --disabled-fill-color: #AAA;\n",
              "      --disabled-bg-color: #DDD;\n",
              "  }\n",
              "\n",
              "  [theme=dark] .colab-df-quickchart {\n",
              "      --bg-color: #3B4455;\n",
              "      --fill-color: #D2E3FC;\n",
              "      --hover-bg-color: #434B5C;\n",
              "      --hover-fill-color: #FFFFFF;\n",
              "      --disabled-bg-color: #3B4455;\n",
              "      --disabled-fill-color: #666;\n",
              "  }\n",
              "\n",
              "  .colab-df-quickchart {\n",
              "    background-color: var(--bg-color);\n",
              "    border: none;\n",
              "    border-radius: 50%;\n",
              "    cursor: pointer;\n",
              "    display: none;\n",
              "    fill: var(--fill-color);\n",
              "    height: 32px;\n",
              "    padding: 0;\n",
              "    width: 32px;\n",
              "  }\n",
              "\n",
              "  .colab-df-quickchart:hover {\n",
              "    background-color: var(--hover-bg-color);\n",
              "    box-shadow: 0 1px 2px rgba(60, 64, 67, 0.3), 0 1px 3px 1px rgba(60, 64, 67, 0.15);\n",
              "    fill: var(--button-hover-fill-color);\n",
              "  }\n",
              "\n",
              "  .colab-df-quickchart-complete:disabled,\n",
              "  .colab-df-quickchart-complete:disabled:hover {\n",
              "    background-color: var(--disabled-bg-color);\n",
              "    fill: var(--disabled-fill-color);\n",
              "    box-shadow: none;\n",
              "  }\n",
              "\n",
              "  .colab-df-spinner {\n",
              "    border: 2px solid var(--fill-color);\n",
              "    border-color: transparent;\n",
              "    border-bottom-color: var(--fill-color);\n",
              "    animation:\n",
              "      spin 1s steps(1) infinite;\n",
              "  }\n",
              "\n",
              "  @keyframes spin {\n",
              "    0% {\n",
              "      border-color: transparent;\n",
              "      border-bottom-color: var(--fill-color);\n",
              "      border-left-color: var(--fill-color);\n",
              "    }\n",
              "    20% {\n",
              "      border-color: transparent;\n",
              "      border-left-color: var(--fill-color);\n",
              "      border-top-color: var(--fill-color);\n",
              "    }\n",
              "    30% {\n",
              "      border-color: transparent;\n",
              "      border-left-color: var(--fill-color);\n",
              "      border-top-color: var(--fill-color);\n",
              "      border-right-color: var(--fill-color);\n",
              "    }\n",
              "    40% {\n",
              "      border-color: transparent;\n",
              "      border-right-color: var(--fill-color);\n",
              "      border-top-color: var(--fill-color);\n",
              "    }\n",
              "    60% {\n",
              "      border-color: transparent;\n",
              "      border-right-color: var(--fill-color);\n",
              "    }\n",
              "    80% {\n",
              "      border-color: transparent;\n",
              "      border-right-color: var(--fill-color);\n",
              "      border-bottom-color: var(--fill-color);\n",
              "    }\n",
              "    90% {\n",
              "      border-color: transparent;\n",
              "      border-bottom-color: var(--fill-color);\n",
              "    }\n",
              "  }\n",
              "</style>\n",
              "\n",
              "      <script>\n",
              "        async function quickchart(key) {\n",
              "          const quickchartButtonEl =\n",
              "            document.querySelector('#' + key + ' button');\n",
              "          quickchartButtonEl.disabled = true;  // To prevent multiple clicks.\n",
              "          quickchartButtonEl.classList.add('colab-df-spinner');\n",
              "          try {\n",
              "            const charts = await google.colab.kernel.invokeFunction(\n",
              "                'suggestCharts', [key], {});\n",
              "          } catch (error) {\n",
              "            console.error('Error during call to suggestCharts:', error);\n",
              "          }\n",
              "          quickchartButtonEl.classList.remove('colab-df-spinner');\n",
              "          quickchartButtonEl.classList.add('colab-df-quickchart-complete');\n",
              "        }\n",
              "        (() => {\n",
              "          let quickchartButtonEl =\n",
              "            document.querySelector('#df-43956163-f00b-46ef-b6c1-40fc66972e4c button');\n",
              "          quickchartButtonEl.style.display =\n",
              "            google.colab.kernel.accessAllowed ? 'block' : 'none';\n",
              "        })();\n",
              "      </script>\n",
              "    </div>\n",
              "\n",
              "  <div id=\"id_7867e5bd-4a93-4fb9-88b1-03fd4d880d32\">\n",
              "    <style>\n",
              "      .colab-df-generate {\n",
              "        background-color: #E8F0FE;\n",
              "        border: none;\n",
              "        border-radius: 50%;\n",
              "        cursor: pointer;\n",
              "        display: none;\n",
              "        fill: #1967D2;\n",
              "        height: 32px;\n",
              "        padding: 0 0 0 0;\n",
              "        width: 32px;\n",
              "      }\n",
              "\n",
              "      .colab-df-generate:hover {\n",
              "        background-color: #E2EBFA;\n",
              "        box-shadow: 0px 1px 2px rgba(60, 64, 67, 0.3), 0px 1px 3px 1px rgba(60, 64, 67, 0.15);\n",
              "        fill: #174EA6;\n",
              "      }\n",
              "\n",
              "      [theme=dark] .colab-df-generate {\n",
              "        background-color: #3B4455;\n",
              "        fill: #D2E3FC;\n",
              "      }\n",
              "\n",
              "      [theme=dark] .colab-df-generate:hover {\n",
              "        background-color: #434B5C;\n",
              "        box-shadow: 0px 1px 3px 1px rgba(0, 0, 0, 0.15);\n",
              "        filter: drop-shadow(0px 1px 2px rgba(0, 0, 0, 0.3));\n",
              "        fill: #FFFFFF;\n",
              "      }\n",
              "    </style>\n",
              "    <button class=\"colab-df-generate\" onclick=\"generateWithVariable('df')\"\n",
              "            title=\"Generate code using this dataframe.\"\n",
              "            style=\"display:none;\">\n",
              "\n",
              "  <svg xmlns=\"http://www.w3.org/2000/svg\" height=\"24px\"viewBox=\"0 0 24 24\"\n",
              "       width=\"24px\">\n",
              "    <path d=\"M7,19H8.4L18.45,9,17,7.55,7,17.6ZM5,21V16.75L18.45,3.32a2,2,0,0,1,2.83,0l1.4,1.43a1.91,1.91,0,0,1,.58,1.4,1.91,1.91,0,0,1-.58,1.4L9.25,21ZM18.45,9,17,7.55Zm-12,3A5.31,5.31,0,0,0,4.9,8.1,5.31,5.31,0,0,0,1,6.5,5.31,5.31,0,0,0,4.9,4.9,5.31,5.31,0,0,0,6.5,1,5.31,5.31,0,0,0,8.1,4.9,5.31,5.31,0,0,0,12,6.5,5.46,5.46,0,0,0,6.5,12Z\"/>\n",
              "  </svg>\n",
              "    </button>\n",
              "    <script>\n",
              "      (() => {\n",
              "      const buttonEl =\n",
              "        document.querySelector('#id_7867e5bd-4a93-4fb9-88b1-03fd4d880d32 button.colab-df-generate');\n",
              "      buttonEl.style.display =\n",
              "        google.colab.kernel.accessAllowed ? 'block' : 'none';\n",
              "\n",
              "      buttonEl.onclick = () => {\n",
              "        google.colab.notebook.generateWithVariable('df');\n",
              "      }\n",
              "      })();\n",
              "    </script>\n",
              "  </div>\n",
              "\n",
              "    </div>\n",
              "  </div>\n"
            ],
            "application/vnd.google.colaboratory.intrinsic+json": {
              "type": "dataframe",
              "variable_name": "df"
            }
          },
          "metadata": {},
          "execution_count": 11
        }
      ],
      "source": [
        "df = pd.concat([df_train, df_test])\n",
        "df"
      ]
    },
    {
      "cell_type": "code",
      "execution_count": 12,
      "metadata": {
        "id": "_2CDNEKaQKRu"
      },
      "outputs": [],
      "source": [
        "df.reset_index(drop=True, inplace=True)"
      ]
    },
    {
      "cell_type": "code",
      "execution_count": 13,
      "metadata": {
        "colab": {
          "base_uri": "https://localhost:8080/",
          "height": 0
        },
        "id": "04GNmHhc55L9",
        "outputId": "8195c42d-c9fd-4dfc-e4d8-a96343da72a6"
      },
      "outputs": [
        {
          "output_type": "stream",
          "name": "stdout",
          "text": [
            "Number of NaN values in 'label' column before dropping: 0\n",
            "Number of NaN values in 'label' column after dropping: 0\n"
          ]
        },
        {
          "output_type": "execute_result",
          "data": {
            "text/plain": [
              "0       !\n",
              "1       !\n",
              "2       !\n",
              "3       !\n",
              "4       !\n",
              "       ..\n",
              "8529    Z\n",
              "8530    Z\n",
              "8531    Z\n",
              "8532    Z\n",
              "8533    Z\n",
              "Name: label, Length: 8534, dtype: object"
            ],
            "text/html": [
              "<div>\n",
              "<style scoped>\n",
              "    .dataframe tbody tr th:only-of-type {\n",
              "        vertical-align: middle;\n",
              "    }\n",
              "\n",
              "    .dataframe tbody tr th {\n",
              "        vertical-align: top;\n",
              "    }\n",
              "\n",
              "    .dataframe thead th {\n",
              "        text-align: right;\n",
              "    }\n",
              "</style>\n",
              "<table border=\"1\" class=\"dataframe\">\n",
              "  <thead>\n",
              "    <tr style=\"text-align: right;\">\n",
              "      <th></th>\n",
              "      <th>label</th>\n",
              "    </tr>\n",
              "  </thead>\n",
              "  <tbody>\n",
              "    <tr>\n",
              "      <th>0</th>\n",
              "      <td>!</td>\n",
              "    </tr>\n",
              "    <tr>\n",
              "      <th>1</th>\n",
              "      <td>!</td>\n",
              "    </tr>\n",
              "    <tr>\n",
              "      <th>2</th>\n",
              "      <td>!</td>\n",
              "    </tr>\n",
              "    <tr>\n",
              "      <th>3</th>\n",
              "      <td>!</td>\n",
              "    </tr>\n",
              "    <tr>\n",
              "      <th>4</th>\n",
              "      <td>!</td>\n",
              "    </tr>\n",
              "    <tr>\n",
              "      <th>...</th>\n",
              "      <td>...</td>\n",
              "    </tr>\n",
              "    <tr>\n",
              "      <th>8529</th>\n",
              "      <td>Z</td>\n",
              "    </tr>\n",
              "    <tr>\n",
              "      <th>8530</th>\n",
              "      <td>Z</td>\n",
              "    </tr>\n",
              "    <tr>\n",
              "      <th>8531</th>\n",
              "      <td>Z</td>\n",
              "    </tr>\n",
              "    <tr>\n",
              "      <th>8532</th>\n",
              "      <td>Z</td>\n",
              "    </tr>\n",
              "    <tr>\n",
              "      <th>8533</th>\n",
              "      <td>Z</td>\n",
              "    </tr>\n",
              "  </tbody>\n",
              "</table>\n",
              "<p>8534 rows × 1 columns</p>\n",
              "</div><br><label><b>dtype:</b> object</label>"
            ]
          },
          "metadata": {},
          "execution_count": 13
        }
      ],
      "source": [
        "# Check for NaN values in the 'label' column after concatenation\n",
        "print(\"Number of NaN values in 'label' column before dropping:\", df.label.isna().sum())\n",
        "\n",
        "# Drop rows where the 'label' is NaN\n",
        "df.dropna(subset=['label'], inplace=True)\n",
        "\n",
        "# Re-check for NaN values (should be 0)\n",
        "print(\"Number of NaN values in 'label' column after dropping:\", df.label.isna().sum())\n",
        "\n",
        "# Now attempt the conversion to int and apply the lambda function\n",
        "df.label.astype(int).apply(lambda index_letter: alphabet[ index_letter ])"
      ]
    },
    {
      "cell_type": "code",
      "execution_count": 14,
      "metadata": {
        "colab": {
          "base_uri": "https://localhost:8080/"
        },
        "id": "r0Ntsp4jiiBK",
        "outputId": "1acbfce9-612b-4b74-81fa-74eedbaf098f"
      },
      "outputs": [
        {
          "output_type": "execute_result",
          "data": {
            "text/plain": [
              "array([ 0,  1,  2,  3,  4,  5,  6,  7,  8,  9, 10, 11, 12, 13, 14, 15, 16,\n",
              "       17, 18, 19, 20, 21, 22, 23, 24, 25, 26])"
            ]
          },
          "metadata": {},
          "execution_count": 14
        }
      ],
      "source": [
        "np.unique(y_train)"
      ]
    },
    {
      "cell_type": "markdown",
      "metadata": {
        "id": "SQ_twJ9PS-x0"
      },
      "source": [
        "ñ = 14"
      ]
    },
    {
      "cell_type": "code",
      "execution_count": 15,
      "metadata": {
        "colab": {
          "base_uri": "https://localhost:8080/",
          "height": 0
        },
        "id": "kulf9PY96Ntw",
        "outputId": "24d1974f-4f88-4db1-f111-87b36abdb826"
      },
      "outputs": [
        {
          "output_type": "stream",
          "name": "stdout",
          "text": [
            "Number of NaN values in 'label' column before dropping: 0\n",
            "Number of NaN values in 'label' column after dropping: 0\n"
          ]
        },
        {
          "output_type": "display_data",
          "data": {
            "text/plain": [
              "<Figure size 640x480 with 1 Axes>"
            ],
            "image/png": "[encoded data removed]"
          },
          "metadata": {}
        }
      ],
      "source": [
        "# Check for NaN values in the 'label' column after concatenation\n",
        "print(\"Number of NaN values in 'label' column before dropping:\", df.label.isna().sum())\n",
        "\n",
        "# Drop rows where the 'label' is NaN\n",
        "df.dropna(subset=['label'], inplace=True)\n",
        "\n",
        "# Re-check for NaN values (should be 0)\n",
        "print(\"Number of NaN values in 'label' column after dropping:\", df.label.isna().sum())\n",
        "\n",
        "# Convert the 'label' column to integer type before applying the lambda function\n",
        "df['label'] = df['label'].astype(int)\n",
        "\n",
        "# Now attempt the conversion to int and apply the lambda function\n",
        "df.label.apply(lambda index_letter: alphabet[ index_letter ])\n",
        "\n",
        "# Calculate and plot value counts as originally intended\n",
        "counts = df.label.apply(lambda index_letter: alphabet[ index_letter ]).value_counts()\n",
        "counts.plot(kind='bar')\n",
        "plt.show()"
      ]
    },
    {
      "cell_type": "code",
      "execution_count": 16,
      "metadata": {
        "colab": {
          "base_uri": "https://localhost:8080/"
        },
        "id": "xX6xPdhcRfCT",
        "outputId": "1719d5f6-6578-43c4-adc3-49e431706582"
      },
      "outputs": [
        {
          "output_type": "execute_result",
          "data": {
            "text/plain": [
              "array(['!', 'A', 'B', 'C', 'D', 'E', 'F', 'G', 'H', 'I', 'J', 'K', 'L',\n",
              "       'M', 'N', 'O', 'P', 'Q', 'R', 'S', 'T', 'U', 'V', 'W', 'X', 'Y',\n",
              "       'Z'], dtype=object)"
            ]
          },
          "metadata": {},
          "execution_count": 16
        }
      ],
      "source": [
        "np.unique(df.label.apply(lambda index_letter: alphabet[ index_letter ]))"
      ]
    },
    {
      "cell_type": "markdown",
      "metadata": {
        "id": "TyeKV-qjr9xg"
      },
      "source": [
        "Se está trabajando un dataset que por defecto ya viene partido en dos conjuntos: Train y Test.\n",
        "La cantidad de muestras que hay en el conjunto de entrenamiento es de 12844 y en el de test hay 4267.\n",
        "La última columna (`label`) corresponde a las diferentes clases que tiene este problema de clasificación."
      ]
    },
    {
      "cell_type": "markdown",
      "metadata": {
        "id": "GlEFGVWKhnBD"
      },
      "source": [
        "**NO TIENE DATOS FALTANTES**"
      ]
    },
    {
      "cell_type": "code",
      "execution_count": 17,
      "metadata": {
        "colab": {
          "base_uri": "https://localhost:8080/",
          "height": 0
        },
        "id": "5z1j4S-AhOTN",
        "outputId": "2aec8f76-49ec-4f0a-b92a-52fb66243d24"
      },
      "outputs": [
        {
          "output_type": "execute_result",
          "data": {
            "text/plain": [
              "pixel_0      0%\n",
              "pixel_1      0%\n",
              "pixel_2      0%\n",
              "pixel_3      0%\n",
              "pixel_4      0%\n",
              "             ..\n",
              "pixel_780    0%\n",
              "pixel_781    0%\n",
              "pixel_782    0%\n",
              "pixel_783    0%\n",
              "label        0%\n",
              "Length: 785, dtype: object"
            ],
            "text/html": [
              "<div>\n",
              "<style scoped>\n",
              "    .dataframe tbody tr th:only-of-type {\n",
              "        vertical-align: middle;\n",
              "    }\n",
              "\n",
              "    .dataframe tbody tr th {\n",
              "        vertical-align: top;\n",
              "    }\n",
              "\n",
              "    .dataframe thead th {\n",
              "        text-align: right;\n",
              "    }\n",
              "</style>\n",
              "<table border=\"1\" class=\"dataframe\">\n",
              "  <thead>\n",
              "    <tr style=\"text-align: right;\">\n",
              "      <th></th>\n",
              "      <th>0</th>\n",
              "    </tr>\n",
              "  </thead>\n",
              "  <tbody>\n",
              "    <tr>\n",
              "      <th>pixel_0</th>\n",
              "      <td>0%</td>\n",
              "    </tr>\n",
              "    <tr>\n",
              "      <th>pixel_1</th>\n",
              "      <td>0%</td>\n",
              "    </tr>\n",
              "    <tr>\n",
              "      <th>pixel_2</th>\n",
              "      <td>0%</td>\n",
              "    </tr>\n",
              "    <tr>\n",
              "      <th>pixel_3</th>\n",
              "      <td>0%</td>\n",
              "    </tr>\n",
              "    <tr>\n",
              "      <th>pixel_4</th>\n",
              "      <td>0%</td>\n",
              "    </tr>\n",
              "    <tr>\n",
              "      <th>...</th>\n",
              "      <td>...</td>\n",
              "    </tr>\n",
              "    <tr>\n",
              "      <th>pixel_780</th>\n",
              "      <td>0%</td>\n",
              "    </tr>\n",
              "    <tr>\n",
              "      <th>pixel_781</th>\n",
              "      <td>0%</td>\n",
              "    </tr>\n",
              "    <tr>\n",
              "      <th>pixel_782</th>\n",
              "      <td>0%</td>\n",
              "    </tr>\n",
              "    <tr>\n",
              "      <th>pixel_783</th>\n",
              "      <td>0%</td>\n",
              "    </tr>\n",
              "    <tr>\n",
              "      <th>label</th>\n",
              "      <td>0%</td>\n",
              "    </tr>\n",
              "  </tbody>\n",
              "</table>\n",
              "<p>785 rows × 1 columns</p>\n",
              "</div><br><label><b>dtype:</b> object</label>"
            ]
          },
          "metadata": {},
          "execution_count": 17
        }
      ],
      "source": [
        "k = df.isna().sum()\n",
        "((round(k/df.shape[0], 2) * 100).astype(int)).astype(str).str.cat(['' for i in range(len(k))], sep='%')"
      ]
    },
    {
      "cell_type": "markdown",
      "metadata": {
        "id": "xUYY1-2_n5_i"
      },
      "source": [
        "Se escalan los conjuntos $X_{train}$ y $X_{test}$ con `MinMaxScaler` en base a $X_{train}$"
      ]
    },
    {
      "cell_type": "code",
      "execution_count": 18,
      "metadata": {
        "id": "8rsjOsI6VAcf"
      },
      "outputs": [],
      "source": [
        "scaler = MinMaxScaler()\n",
        "X_train_scaled = pd.DataFrame(scaler.fit_transform(X_train), index=X_train.index, columns=X_train.columns)\n",
        "X_test_scaled = pd.DataFrame(scaler.transform(X_test), index=X_test.index, columns=X_test.columns)"
      ]
    },
    {
      "cell_type": "code",
      "execution_count": 19,
      "metadata": {
        "colab": {
          "base_uri": "https://localhost:8080/",
          "height": 0
        },
        "id": "-fUzSa6nYlOB",
        "outputId": "db92fff7-d049-42d8-b364-dcc7b05154e4"
      },
      "outputs": [
        {
          "output_type": "display_data",
          "data": {
            "text/plain": [
              "<Figure size 640x480 with 1 Axes>"
            ],
            "image/png": "[encoded data removed]"
          },
          "metadata": {}
        }
      ],
      "source": [
        "plt.imshow(np.array(X_train_scaled.iloc[1000]).reshape((28,28)), cmap=\"binary\")\n",
        "plt.show()"
      ]
    },
    {
      "cell_type": "markdown",
      "metadata": {
        "id": "oBPzgLKsRnwL"
      },
      "source": [
        "## Redimensionamiento\n",
        "Hasta este punto, cada imagen se representa como un vector, sin embargo, dado que en el modelo de red neuronal convolucional nos interesa extraer información sobre la relación de un pixel con su alrededor, crearemos un nuevo dataset redimensionado para este modelo."
      ]
    },
    {
      "cell_type": "code",
      "execution_count": 20,
      "metadata": {
        "id": "jJVeJQWUSv0F"
      },
      "outputs": [],
      "source": [
        "X_train_scaled_2d = np.reshape(np.array(X_train_scaled), (X_train_scaled.shape[0],28,28))\n",
        "y_train_array = np.array(y_train)\n",
        "\n",
        "X_test_scaled_2d = np.reshape(np.array(X_test_scaled), (X_test_scaled.shape[0],28,28))\n",
        "y_test_array = np.array(y_test)\n",
        "\n",
        "image = X_train_scaled_2d[1000]"
      ]
    },
    {
      "cell_type": "code",
      "execution_count": 21,
      "metadata": {
        "colab": {
          "base_uri": "https://localhost:8080/",
          "height": 0
        },
        "id": "yDuB8seFUFvz",
        "outputId": "d424f8d0-e141-475d-b277-800735df1fc0"
      },
      "outputs": [
        {
          "output_type": "display_data",
          "data": {
            "text/plain": [
              "<Figure size 640x480 with 1 Axes>"
            ],
            "image/png": "[encoded data removed]"
          },
          "metadata": {}
        }
      ],
      "source": [
        "# Create a figure and axis\n",
        "fig, ax = plt.subplots()\n",
        "\n",
        "# Plot the image\n",
        "ax.imshow(image, cmap='binary')\n",
        "\n",
        "# Show the plot\n",
        "plt.show()"
      ]
    },
    {
      "cell_type": "markdown",
      "metadata": {
        "id": "juboAVLPRfzu"
      },
      "source": [
        "#Modelos a considerar\n",
        "* Feedforward neural network\n",
        "* Convolutional neural network\n",
        "\n",
        "Definamos una función experimentos, la metodología de validación a usar es \"KFolds\""
      ]
    },
    {
      "cell_type": "markdown",
      "metadata": {
        "id": "v6mGDOT-Nh0W"
      },
      "source": [
        "## Feedforward neural network"
      ]
    },
    {
      "cell_type": "code",
      "execution_count": 26,
      "metadata": {
        "id": "w5iP5cVSNnpo"
      },
      "outputs": [],
      "source": [
        "def get_model(num_classes=2, nlayers=3, lsize=64, compile=True, dropout=None):\n",
        "    print(\"using\",num_classes,\"classes\")\n",
        "    print(f\"Entrenando modelo lsize = {lsize} - nlayers = {nlayers}\")\n",
        "    inputs = tf.keras.Input(shape=(784,), name=\"input_1\")\n",
        "\n",
        "    layers = inputs\n",
        "    for _ in range(nlayers):\n",
        "        layers = tf.keras.layers.Dense(lsize, activation=tf.nn.relu)(layers)\n",
        "        if dropout is not None:\n",
        "            layers = tf.keras.layers.Dropout(dropout)(layers)\n",
        "\n",
        "    predictions = tf.keras.layers.Dense(num_classes, activation=tf.nn.softmax, name=\"output_1\")(layers)\n",
        "    model = tf.keras.Model(inputs = inputs, outputs=predictions)\n",
        "    if compile:\n",
        "        model.compile(optimizer='adam',\n",
        "                      loss='sparse_categorical_crossentropy',\n",
        "                      metrics=['accuracy'])\n",
        "    return model"
      ]
    },
    {
      "cell_type": "code",
      "execution_count": 22,
      "metadata": {
        "id": "CuVvPlojpySc"
      },
      "outputs": [],
      "source": [
        "def experiments_dense_model(X, y):\n",
        "    \"\"\"\n",
        "    Función que realiza los experimentos con el modelo\n",
        "    red neuronal convolucional, estos experimentos constan de:\n",
        "    - Estrategia de validacion: K-Fold\n",
        "    - Etapa de entrenamiento\n",
        "    - Fase de validación\n",
        "    X_train: Matriz 3D (i,j,k) donde la matriz i representa la imagen i y j y k los subíndices de la imagen\n",
        "    y_train: Vector de numpy con la variable de salida\n",
        "    retorna: Matriz de confusion, recall, precision\n",
        "    \"\"\"\n",
        "    X_train, X_test, y_train, y_test = train_test_split(X, y, test_size=0.33, random_state=0)\n",
        "    nlayers = [2**i for i in range(5)]\n",
        "    lsize = [2**i for i in range(5, 10)]\n",
        "\n",
        "\n",
        "\n",
        "    # Nuestro hiperparámetro a considerar será si se aplica max_pooling o no\n",
        "    for n_layers, l_size in product(nlayers, lsize):\n",
        "        #Metodología de validación\n",
        "\n",
        "\n",
        "        #Entrenamiento del modelo\n",
        "        model = get_model(num_classes=27, lsize=l_size, nlayers=n_layers)\n",
        "        model.fit(X_train, y_train, epochs=128, verbose=0)\n",
        "\n",
        "        print(f\"Modelo lsize = {l_size} - nlayers = {n_layers}\")\n",
        "        print(\"Entrenamiento\")\n",
        "        model.evaluate(x=X_train,y=y_train)\n",
        "        print(\"Validación\")\n",
        "        model.evaluate(x=X_test,y=y_test)\n",
        "\n",
        "\n",
        "\n"
      ]
    },
    {
      "cell_type": "markdown",
      "metadata": {
        "id": "ilOt01pjQI14"
      },
      "source": [
        "## Convolutional neural network"
      ]
    },
    {
      "cell_type": "code",
      "execution_count": 23,
      "metadata": {
        "id": "LXpVwoWuQLth"
      },
      "outputs": [],
      "source": [
        "def get_conv_model(num_classes=3, img_size=32, channels=3, use_maxpooling=True, compile=True, filters_per_layer=[32,16], size_filter_per_layer=[7,5]):\n",
        "    print (\"using\",num_classes,\"classes\")\n",
        "    print(f\"Entrenando modelo max_pooling = {use_maxpooling} - size_filter_per_layer = {size_filter_per_layer} - filters_per_layer = {filters_per_layer}\")\n",
        "    #inputs = tf.keras.Input(shape=(img_size,img_size,3), name=\"input_1\")\n",
        "\n",
        "    inputs = tf.keras.Input(shape=(img_size,img_size,channels), name=\"input_1\")\n",
        "    layers = tf.keras.layers.Conv2D(filters_per_layer[0],(size_filter_per_layer[0],size_filter_per_layer[0]), activation=\"relu\",padding='same')(inputs)\n",
        "\n",
        "    for n_filters, size_filters in zip(filters_per_layer[1:], size_filter_per_layer[1:]):\n",
        "        layers = tf.keras.layers.Conv2D(n_filters,(size_filters,size_filters), activation=\"relu\", padding='same')(layers)\n",
        "        if use_maxpooling:\n",
        "            layers = tf.keras.layers.MaxPool2D((2,2))(layers)\n",
        "\n",
        "    layers = tf.keras.layers.Flatten()(layers)\n",
        "    layers = tf.keras.layers.Dense(128, activation=tf.nn.relu)(layers)\n",
        "    layers = tf.keras.layers.Dense(128, activation=tf.nn.relu)(layers)\n",
        "    layers = tf.keras.layers.Dropout(0.5)(layers)\n",
        "    predictions = tf.keras.layers.Dense(num_classes, activation=tf.nn.softmax, name=\"output_1\")(layers)\n",
        "    model = tf.keras.Model(inputs = inputs, outputs=predictions)\n",
        "    if compile:\n",
        "        model.compile(optimizer='adam',\n",
        "                      loss='sparse_categorical_crossentropy',\n",
        "                      metrics=['accuracy'])\n",
        "    return model"
      ]
    },
    {
      "cell_type": "code",
      "execution_count": 24,
      "metadata": {
        "id": "Mux05JdZBSfV"
      },
      "outputs": [],
      "source": [
        "def experiments_conv_model(X, y):\n",
        "    \"\"\"\n",
        "    Función que realiza los experimentos con el modelo\n",
        "    red neuronal convolucional, estos experimentos constan de:\n",
        "    - Estrategia de validacion: K-Fold\n",
        "    - Etapa de entrenamiento\n",
        "    - Fase de validación\n",
        "    X_train: Matriz 3D (i,j,k) donde la matriz i representa la imagen i y j y k los subíndices de la imagen\n",
        "    y_train: Vector de numpy con la variable de salida\n",
        "    retorna: Matriz de confusion, recall, precision\n",
        "    \"\"\"\n",
        "    X_train, X_test, y_train, y_test = train_test_split(X, y, test_size=0.33, random_state=0)\n",
        "    max_pooling_hyperparams = [True, False]\n",
        "    size_filter_per_layer_hyperparams = [\n",
        "        [7,5,3],\n",
        "        [9,7,5,3],\n",
        "        [11,9,7,5,3],\n",
        "    ]\n",
        "\n",
        "    filters_per_layer_hyperparams = [\n",
        "        [32, 16, 8],\n",
        "        [64,32, 16, 8],\n",
        "        [128,64,32, 16, 8],\n",
        "\n",
        "    ]\n",
        "\n",
        "    # Nuestro hiperparámetro a considerar será si se aplica max_pooling o no\n",
        "    for max_pooling, (size_filter_per_layer, filters_per_layer) in product(max_pooling_hyperparams, zip(size_filter_per_layer_hyperparams, filters_per_layer_hyperparams)):\n",
        "        #Metodología de validación\n",
        "\n",
        "\n",
        "        #Entrenamiento del modelo\n",
        "        model = get_conv_model(num_classes=27, img_size=28, channels=1, use_maxpooling=max_pooling, size_filter_per_layer=size_filter_per_layer, filters_per_layer=filters_per_layer)\n",
        "        model.fit(X_train, y_train, epochs=4)\n",
        "\n",
        "        print(f\"Modelo max_pooling = {max_pooling} - size_filter_per_layer = {size_filter_per_layer} - filters_per_layer = {filters_per_layer}\")\n",
        "        model.evaluate(x=X_test,y=y_test)\n",
        "\n",
        "\n",
        "\n"
      ]
    },
    {
      "cell_type": "markdown",
      "metadata": {
        "id": "NLkbdhlJKVnu"
      },
      "source": [
        "## Experimentación"
      ]
    },
    {
      "cell_type": "markdown",
      "metadata": {
        "id": "mGViyb1D_mto"
      },
      "source": [
        "Modelo convolucional"
      ]
    },
    {
      "cell_type": "code",
      "execution_count": null,
      "metadata": {
        "colab": {
          "base_uri": "https://localhost:8080/"
        },
        "id": "Q87HPZpuKSPl",
        "outputId": "7e12e9d7-364a-4177-ec98-aab078e59e67"
      },
      "outputs": [
        {
          "output_type": "stream",
          "name": "stdout",
          "text": [
            "using 27 classes\n",
            "Entrenando modelo max_pooling = True - size_filter_per_layer = [7, 5, 3] - filters_per_layer = [32, 16, 8]\n",
            "Epoch 1/4\n",
            "\u001b[1m269/269\u001b[0m \u001b[32m━━━━━━━━━━━━━━━━━━━━\u001b[0m\u001b[37m\u001b[0m \u001b[1m9s\u001b[0m 13ms/step - accuracy: 0.1146 - loss: 3.0344\n",
            "Epoch 2/4\n",
            "\u001b[1m269/269\u001b[0m \u001b[32m━━━━━━━━━━━━━━━━━━━━\u001b[0m\u001b[37m\u001b[0m \u001b[1m4s\u001b[0m 3ms/step - accuracy: 0.6831 - loss: 0.9460\n",
            "Epoch 3/4\n",
            "\u001b[1m269/269\u001b[0m \u001b[32m━━━━━━━━━━━━━━━━━━━━\u001b[0m\u001b[37m\u001b[0m \u001b[1m1s\u001b[0m 3ms/step - accuracy: 0.8386 - loss: 0.4493\n",
            "Epoch 4/4\n",
            "\u001b[1m269/269\u001b[0m \u001b[32m━━━━━━━━━━━━━━━━━━━━\u001b[0m\u001b[37m\u001b[0m \u001b[1m1s\u001b[0m 3ms/step - accuracy: 0.9150 - loss: 0.2502\n",
            "Modelo max_pooling = True - size_filter_per_layer = [7, 5, 3] - filters_per_layer = [32, 16, 8]\n",
            "\u001b[1m133/133\u001b[0m \u001b[32m━━━━━━━━━━━━━━━━━━━━\u001b[0m\u001b[37m\u001b[0m \u001b[1m2s\u001b[0m 7ms/step - accuracy: 0.9636 - loss: 0.1037\n",
            "using 27 classes\n",
            "Entrenando modelo max_pooling = True - size_filter_per_layer = [9, 7, 5, 3] - filters_per_layer = [64, 32, 16, 8]\n",
            "Epoch 1/4\n",
            "\u001b[1m269/269\u001b[0m \u001b[32m━━━━━━━━━━━━━━━━━━━━\u001b[0m\u001b[37m\u001b[0m \u001b[1m9s\u001b[0m 16ms/step - accuracy: 0.0350 - loss: 3.2983\n",
            "Epoch 2/4\n",
            "\u001b[1m269/269\u001b[0m \u001b[32m━━━━━━━━━━━━━━━━━━━━\u001b[0m\u001b[37m\u001b[0m \u001b[1m5s\u001b[0m 7ms/step - accuracy: 0.0680 - loss: 3.1856\n",
            "Epoch 3/4\n",
            "\u001b[1m269/269\u001b[0m \u001b[32m━━━━━━━━━━━━━━━━━━━━\u001b[0m\u001b[37m\u001b[0m \u001b[1m2s\u001b[0m 6ms/step - accuracy: 0.4984 - loss: 1.5696\n",
            "Epoch 4/4\n",
            "\u001b[1m269/269\u001b[0m \u001b[32m━━━━━━━━━━━━━━━━━━━━\u001b[0m\u001b[37m\u001b[0m \u001b[1m3s\u001b[0m 6ms/step - accuracy: 0.6509 - loss: 1.0411\n",
            "Modelo max_pooling = True - size_filter_per_layer = [9, 7, 5, 3] - filters_per_layer = [64, 32, 16, 8]\n",
            "\u001b[1m133/133\u001b[0m \u001b[32m━━━━━━━━━━━━━━━━━━━━\u001b[0m\u001b[37m\u001b[0m \u001b[1m2s\u001b[0m 7ms/step - accuracy: 0.7816 - loss: 0.6644\n",
            "using 27 classes\n",
            "Entrenando modelo max_pooling = True - size_filter_per_layer = [11, 9, 7, 5, 3] - filters_per_layer = [128, 64, 32, 16, 8]\n",
            "Epoch 1/4\n",
            "\u001b[1m269/269\u001b[0m \u001b[32m━━━━━━━━━━━━━━━━━━━━\u001b[0m\u001b[37m\u001b[0m \u001b[1m16s\u001b[0m 32ms/step - accuracy: 0.0356 - loss: 3.2971\n",
            "Epoch 2/4\n",
            "\u001b[1m269/269\u001b[0m \u001b[32m━━━━━━━━━━━━━━━━━━━━\u001b[0m\u001b[37m\u001b[0m \u001b[1m12s\u001b[0m 16ms/step - accuracy: 0.0326 - loss: 3.2957\n",
            "Epoch 3/4\n",
            "\u001b[1m269/269\u001b[0m \u001b[32m━━━━━━━━━━━━━━━━━━━━\u001b[0m\u001b[37m\u001b[0m \u001b[1m5s\u001b[0m 16ms/step - accuracy: 0.0350 - loss: 3.2953\n",
            "Epoch 4/4\n",
            "\u001b[1m269/269\u001b[0m \u001b[32m━━━━━━━━━━━━━━━━━━━━\u001b[0m\u001b[37m\u001b[0m \u001b[1m5s\u001b[0m 16ms/step - accuracy: 0.0389 - loss: 3.2954\n",
            "Modelo max_pooling = True - size_filter_per_layer = [11, 9, 7, 5, 3] - filters_per_layer = [128, 64, 32, 16, 8]\n",
            "\u001b[1m133/133\u001b[0m \u001b[32m━━━━━━━━━━━━━━━━━━━━\u001b[0m\u001b[37m\u001b[0m \u001b[1m3s\u001b[0m 12ms/step - accuracy: 0.0341 - loss: 3.2973\n",
            "using 27 classes\n",
            "Entrenando modelo max_pooling = False - size_filter_per_layer = [7, 5, 3] - filters_per_layer = [32, 16, 8]\n",
            "Epoch 1/4\n",
            "\u001b[1m269/269\u001b[0m \u001b[32m━━━━━━━━━━━━━━━━━━━━\u001b[0m\u001b[37m\u001b[0m \u001b[1m6s\u001b[0m 10ms/step - accuracy: 0.0543 - loss: 3.2454\n",
            "Epoch 2/4\n",
            "\u001b[1m269/269\u001b[0m \u001b[32m━━━━━━━━━━━━━━━━━━━━\u001b[0m\u001b[37m\u001b[0m \u001b[1m1s\u001b[0m 3ms/step - accuracy: 0.7562 - loss: 0.7860\n",
            "Epoch 3/4\n",
            "\u001b[1m269/269\u001b[0m \u001b[32m━━━━━━━━━━━━━━━━━━━━\u001b[0m\u001b[37m\u001b[0m \u001b[1m1s\u001b[0m 4ms/step - accuracy: 0.9439 - loss: 0.1924\n",
            "Epoch 4/4\n",
            "\u001b[1m269/269\u001b[0m \u001b[32m━━━━━━━━━━━━━━━━━━━━\u001b[0m\u001b[37m\u001b[0m \u001b[1m1s\u001b[0m 4ms/step - accuracy: 0.9699 - loss: 0.0989\n",
            "Modelo max_pooling = False - size_filter_per_layer = [7, 5, 3] - filters_per_layer = [32, 16, 8]\n",
            "\u001b[1m133/133\u001b[0m \u001b[32m━━━━━━━━━━━━━━━━━━━━\u001b[0m\u001b[37m\u001b[0m \u001b[1m1s\u001b[0m 6ms/step - accuracy: 0.9859 - loss: 0.0468\n",
            "using 27 classes\n",
            "Entrenando modelo max_pooling = False - size_filter_per_layer = [9, 7, 5, 3] - filters_per_layer = [64, 32, 16, 8]\n",
            "Epoch 1/4\n",
            "\u001b[1m269/269\u001b[0m \u001b[32m━━━━━━━━━━━━━━━━━━━━\u001b[0m\u001b[37m\u001b[0m \u001b[1m7s\u001b[0m 14ms/step - accuracy: 0.0347 - loss: 3.2977\n",
            "Epoch 2/4\n",
            "\u001b[1m269/269\u001b[0m \u001b[32m━━━━━━━━━━━━━━━━━━━━\u001b[0m\u001b[37m\u001b[0m \u001b[1m2s\u001b[0m 8ms/step - accuracy: 0.0387 - loss: 3.2957\n",
            "Epoch 3/4\n",
            "\u001b[1m269/269\u001b[0m \u001b[32m━━━━━━━━━━━━━━━━━━━━\u001b[0m\u001b[37m\u001b[0m \u001b[1m2s\u001b[0m 7ms/step - accuracy: 0.0379 - loss: 3.2954\n",
            "Epoch 4/4\n",
            "\u001b[1m269/269\u001b[0m \u001b[32m━━━━━━━━━━━━━━━━━━━━\u001b[0m\u001b[37m\u001b[0m \u001b[1m2s\u001b[0m 7ms/step - accuracy: 0.0377 - loss: 3.2955\n",
            "Modelo max_pooling = False - size_filter_per_layer = [9, 7, 5, 3] - filters_per_layer = [64, 32, 16, 8]\n",
            "\u001b[1m133/133\u001b[0m \u001b[32m━━━━━━━━━━━━━━━━━━━━\u001b[0m\u001b[37m\u001b[0m \u001b[1m1s\u001b[0m 6ms/step - accuracy: 0.0341 - loss: 3.2975\n",
            "using 27 classes\n",
            "Entrenando modelo max_pooling = False - size_filter_per_layer = [11, 9, 7, 5, 3] - filters_per_layer = [128, 64, 32, 16, 8]\n",
            "Epoch 1/4\n",
            "\u001b[1m269/269\u001b[0m \u001b[32m━━━━━━━━━━━━━━━━━━━━\u001b[0m\u001b[37m\u001b[0m \u001b[1m11s\u001b[0m 27ms/step - accuracy: 0.0325 - loss: 3.3021\n",
            "Epoch 2/4\n",
            "\u001b[1m269/269\u001b[0m \u001b[32m━━━━━━━━━━━━━━━━━━━━\u001b[0m\u001b[37m\u001b[0m \u001b[1m6s\u001b[0m 19ms/step - accuracy: 0.0428 - loss: 3.2953\n",
            "Epoch 3/4\n",
            "\u001b[1m269/269\u001b[0m \u001b[32m━━━━━━━━━━━━━━━━━━━━\u001b[0m\u001b[37m\u001b[0m \u001b[1m5s\u001b[0m 19ms/step - accuracy: 0.0359 - loss: 3.2957\n",
            "Epoch 4/4\n",
            "\u001b[1m269/269\u001b[0m \u001b[32m━━━━━━━━━━━━━━━━━━━━\u001b[0m\u001b[37m\u001b[0m \u001b[1m10s\u001b[0m 20ms/step - accuracy: 0.0357 - loss: 3.2954\n",
            "Modelo max_pooling = False - size_filter_per_layer = [11, 9, 7, 5, 3] - filters_per_layer = [128, 64, 32, 16, 8]\n",
            "\u001b[1m133/133\u001b[0m \u001b[32m━━━━━━━━━━━━━━━━━━━━\u001b[0m\u001b[37m\u001b[0m \u001b[1m2s\u001b[0m 9ms/step - accuracy: 0.0315 - loss: 3.2975\n"
          ]
        }
      ],
      "source": [
        "resultados_conv_model = experiments_conv_model(X_train_scaled_2d, y_train_array)"
      ]
    },
    {
      "cell_type": "markdown",
      "metadata": {
        "id": "0O9Exzk-_p8X"
      },
      "source": [
        "Modelo perceptrón multicapa"
      ]
    },
    {
      "cell_type": "code",
      "source": [
        "experiments_dense_model(X_train_scaled, y_train_array)"
      ],
      "metadata": {
        "colab": {
          "base_uri": "https://localhost:8080/"
        },
        "id": "VgWMvfjUQMek",
        "outputId": "f1011cc6-fac8-4024-fa35-8d538aca7401"
      },
      "execution_count": null,
      "outputs": [
        {
          "output_type": "stream",
          "name": "stdout",
          "text": [
            "using 27 classes\n",
            "Entrenando modelo lsize = 32 - nlayers = 1\n",
            "Modelo lsize = 32 - nlayers = 1\n",
            "Entrenamiento\n",
            "\u001b[1m269/269\u001b[0m \u001b[32m━━━━━━━━━━━━━━━━━━━━\u001b[0m\u001b[37m\u001b[0m \u001b[1m1s\u001b[0m 2ms/step - accuracy: 0.0380 - loss: 3.2948\n",
            "Validación\n",
            "\u001b[1m133/133\u001b[0m \u001b[32m━━━━━━━━━━━━━━━━━━━━\u001b[0m\u001b[37m\u001b[0m \u001b[1m0s\u001b[0m 1ms/step - accuracy: 0.0341 - loss: 3.2982  \n",
            "using 27 classes\n",
            "Entrenando modelo lsize = 64 - nlayers = 1\n",
            "Modelo lsize = 64 - nlayers = 1\n",
            "Entrenamiento\n",
            "\u001b[1m269/269\u001b[0m \u001b[32m━━━━━━━━━━━━━━━━━━━━\u001b[0m\u001b[37m\u001b[0m \u001b[1m0s\u001b[0m 1ms/step - accuracy: 0.0380 - loss: 3.2948  \n",
            "Validación\n",
            "\u001b[1m133/133\u001b[0m \u001b[32m━━━━━━━━━━━━━━━━━━━━\u001b[0m\u001b[37m\u001b[0m \u001b[1m0s\u001b[0m 1ms/step - accuracy: 0.0341 - loss: 3.2982\n",
            "using 27 classes\n",
            "Entrenando modelo lsize = 128 - nlayers = 1\n",
            "Modelo lsize = 128 - nlayers = 1\n",
            "Entrenamiento\n",
            "\u001b[1m269/269\u001b[0m \u001b[32m━━━━━━━━━━━━━━━━━━━━\u001b[0m\u001b[37m\u001b[0m \u001b[1m1s\u001b[0m 2ms/step - accuracy: 1.0000 - loss: 0.0086\n",
            "Validación\n",
            "\u001b[1m133/133\u001b[0m \u001b[32m━━━━━━━━━━━━━━━━━━━━\u001b[0m\u001b[37m\u001b[0m \u001b[1m0s\u001b[0m 2ms/step - accuracy: 0.9528 - loss: 0.1856\n",
            "using 27 classes\n",
            "Entrenando modelo lsize = 256 - nlayers = 1\n",
            "Modelo lsize = 256 - nlayers = 1\n",
            "Entrenamiento\n",
            "\u001b[1m269/269\u001b[0m \u001b[32m━━━━━━━━━━━━━━━━━━━━\u001b[0m\u001b[37m\u001b[0m \u001b[1m1s\u001b[0m 2ms/step - accuracy: 1.0000 - loss: 9.0830e-04\n",
            "Validación\n",
            "\u001b[1m133/133\u001b[0m \u001b[32m━━━━━━━━━━━━━━━━━━━━\u001b[0m\u001b[37m\u001b[0m \u001b[1m0s\u001b[0m 1ms/step - accuracy: 0.9772 - loss: 0.0951\n",
            "using 27 classes\n",
            "Entrenando modelo lsize = 512 - nlayers = 1\n",
            "Modelo lsize = 512 - nlayers = 1\n",
            "Entrenamiento\n",
            "\u001b[1m269/269\u001b[0m \u001b[32m━━━━━━━━━━━━━━━━━━━━\u001b[0m\u001b[37m\u001b[0m \u001b[1m1s\u001b[0m 2ms/step - accuracy: 1.0000 - loss: 0.0015\n",
            "Validación\n",
            "\u001b[1m133/133\u001b[0m \u001b[32m━━━━━━━━━━━━━━━━━━━━\u001b[0m\u001b[37m\u001b[0m \u001b[1m0s\u001b[0m 2ms/step - accuracy: 0.9767 - loss: 0.0907\n",
            "using 27 classes\n",
            "Entrenando modelo lsize = 32 - nlayers = 2\n",
            "Modelo lsize = 32 - nlayers = 2\n",
            "Entrenamiento\n",
            "\u001b[1m269/269\u001b[0m \u001b[32m━━━━━━━━━━━━━━━━━━━━\u001b[0m\u001b[37m\u001b[0m \u001b[1m0s\u001b[0m 1ms/step - accuracy: 0.0380 - loss: 3.2948  \n",
            "Validación\n",
            "\u001b[1m133/133\u001b[0m \u001b[32m━━━━━━━━━━━━━━━━━━━━\u001b[0m\u001b[37m\u001b[0m \u001b[1m0s\u001b[0m 2ms/step - accuracy: 0.0341 - loss: 3.2981\n",
            "using 27 classes\n",
            "Entrenando modelo lsize = 64 - nlayers = 2\n",
            "Modelo lsize = 64 - nlayers = 2\n",
            "Entrenamiento\n",
            "\u001b[1m269/269\u001b[0m \u001b[32m━━━━━━━━━━━━━━━━━━━━\u001b[0m\u001b[37m\u001b[0m \u001b[1m0s\u001b[0m 1ms/step - accuracy: 0.5715 - loss: 1.1534\n",
            "Validación\n",
            "\u001b[1m133/133\u001b[0m \u001b[32m━━━━━━━━━━━━━━━━━━━━\u001b[0m\u001b[37m\u001b[0m \u001b[1m0s\u001b[0m 1ms/step - accuracy: 0.5238 - loss: 1.3556\n",
            "using 27 classes\n",
            "Entrenando modelo lsize = 128 - nlayers = 2\n",
            "Modelo lsize = 128 - nlayers = 2\n",
            "Entrenamiento\n",
            "\u001b[1m269/269\u001b[0m \u001b[32m━━━━━━━━━━━━━━━━━━━━\u001b[0m\u001b[37m\u001b[0m \u001b[1m0s\u001b[0m 1ms/step - accuracy: 1.0000 - loss: 0.0013\n",
            "Validación\n",
            "\u001b[1m133/133\u001b[0m \u001b[32m━━━━━━━━━━━━━━━━━━━━\u001b[0m\u001b[37m\u001b[0m \u001b[1m0s\u001b[0m 1ms/step - accuracy: 0.9658 - loss: 0.1391\n",
            "using 27 classes\n",
            "Entrenando modelo lsize = 256 - nlayers = 2\n"
          ]
        }
      ]
    },
    {
      "cell_type": "code",
      "execution_count": 28,
      "metadata": {
        "id": "dsbP7yf0-elR"
      },
      "outputs": [],
      "source": [
        "mlp_accuracy_training = \"\"\"\n",
        "0.0399\n",
        "0.0399\n",
        "1.0000\n",
        "1.0000\n",
        "1.0000\n",
        "0.2449\n",
        "0.8308\n",
        "0.9998\n",
        "1.0000\n",
        "0.9866\n",
        "0.8331\n",
        "0.9947\n",
        "0.9608\n",
        "1.0000\n",
        "0.9943\n",
        "0.9147\n",
        "0.0399\n",
        "0.8015\n",
        "0.6390\n",
        "0.0399\n",
        "0.0399\n",
        "0.0399\n",
        "0.0399\n",
        "0.0399\n",
        "0.0399\n",
        "\"\"\"\n",
        "\n",
        "mlp_accuracy_testing = \"\"\"\n",
        "0.0370\n",
        "0.0370\n",
        "0.9707\n",
        "0.9766\n",
        "0.9736\n",
        "0.2241\n",
        "0.7686\n",
        "0.9998\n",
        "0.9769\n",
        "0.9507\n",
        "0.7679\n",
        "0.9947\n",
        "0.9148\n",
        "0.9830\n",
        "0.9290\n",
        "0.8410\n",
        "0.0399\n",
        "0.7306\n",
        "0.5638\n",
        "0.0370\n",
        "0.0370\n",
        "0.0370\n",
        "0.0370\n",
        "0.0370\n",
        "0.0370\n",
        "\"\"\""
      ]
    },
    {
      "cell_type": "code",
      "execution_count": 29,
      "metadata": {
        "id": "QYV2LcpX8uYd"
      },
      "outputs": [],
      "source": [
        "mlp_accuracy_training = np.array(mlp_accuracy_training.split(\"\\n\")[1:-1]).astype(float)\n",
        "mlp_accuracy_testing = np.array(mlp_accuracy_testing.split(\"\\n\")[1:-1]).astype(float)"
      ]
    },
    {
      "cell_type": "code",
      "execution_count": 30,
      "metadata": {
        "id": "wYG2wG4n8vl4",
        "colab": {
          "base_uri": "https://localhost:8080/"
        },
        "outputId": "3cb33bb7-298d-4055-d237-d0407017cb61"
      },
      "outputs": [
        {
          "output_type": "execute_result",
          "data": {
            "text/plain": [
              "np.int64(7)"
            ]
          },
          "metadata": {},
          "execution_count": 30
        }
      ],
      "source": [
        "np.argmin(np.abs(mlp_accuracy_training - mlp_accuracy_testing))"
      ]
    },
    {
      "cell_type": "markdown",
      "metadata": {
        "id": "Kzel82pu_vJG"
      },
      "source": [
        "## Comparación mejores modelos"
      ]
    },
    {
      "cell_type": "markdown",
      "metadata": {
        "id": "uUsGZMQMTGXt"
      },
      "source": [
        "### Perceptrón multicapa"
      ]
    },
    {
      "cell_type": "code",
      "execution_count": 31,
      "metadata": {
        "id": "RXGB7pfg9nxm",
        "colab": {
          "base_uri": "https://localhost:8080/"
        },
        "outputId": "643ddc3e-078b-417c-9737-c462cb1b54ef"
      },
      "outputs": [
        {
          "output_type": "stream",
          "name": "stdout",
          "text": [
            "using 27 classes\n",
            "Entrenando modelo lsize = 128 - nlayers = 2\n"
          ]
        }
      ],
      "source": [
        "mlp_best_model = get_model(num_classes=27, nlayers=2, lsize=128)"
      ]
    },
    {
      "cell_type": "code",
      "execution_count": 32,
      "metadata": {
        "id": "G6j4c8FbAiyt",
        "colab": {
          "base_uri": "https://localhost:8080/"
        },
        "outputId": "04fc4e43-dec8-4dc1-9b04-85ede1892e49"
      },
      "outputs": [
        {
          "output_type": "stream",
          "name": "stdout",
          "text": [
            "Epoch 1/12\n",
            "\u001b[1m402/402\u001b[0m \u001b[32m━━━━━━━━━━━━━━━━━━━━\u001b[0m\u001b[37m\u001b[0m \u001b[1m2s\u001b[0m 2ms/step - accuracy: 0.0766 - loss: 3.2348\n",
            "Epoch 2/12\n",
            "\u001b[1m402/402\u001b[0m \u001b[32m━━━━━━━━━━━━━━━━━━━━\u001b[0m\u001b[37m\u001b[0m \u001b[1m1s\u001b[0m 2ms/step - accuracy: 0.4765 - loss: 1.8963\n",
            "Epoch 3/12\n",
            "\u001b[1m402/402\u001b[0m \u001b[32m━━━━━━━━━━━━━━━━━━━━\u001b[0m\u001b[37m\u001b[0m \u001b[1m1s\u001b[0m 4ms/step - accuracy: 0.6869 - loss: 1.0918\n",
            "Epoch 4/12\n",
            "\u001b[1m402/402\u001b[0m \u001b[32m━━━━━━━━━━━━━━━━━━━━\u001b[0m\u001b[37m\u001b[0m \u001b[1m2s\u001b[0m 2ms/step - accuracy: 0.7841 - loss: 0.7555\n",
            "Epoch 5/12\n",
            "\u001b[1m402/402\u001b[0m \u001b[32m━━━━━━━━━━━━━━━━━━━━\u001b[0m\u001b[37m\u001b[0m \u001b[1m1s\u001b[0m 2ms/step - accuracy: 0.8288 - loss: 0.5775\n",
            "Epoch 6/12\n",
            "\u001b[1m402/402\u001b[0m \u001b[32m━━━━━━━━━━━━━━━━━━━━\u001b[0m\u001b[37m\u001b[0m \u001b[1m1s\u001b[0m 2ms/step - accuracy: 0.8628 - loss: 0.4551\n",
            "Epoch 7/12\n",
            "\u001b[1m402/402\u001b[0m \u001b[32m━━━━━━━━━━━━━━━━━━━━\u001b[0m\u001b[37m\u001b[0m \u001b[1m1s\u001b[0m 2ms/step - accuracy: 0.8808 - loss: 0.3948\n",
            "Epoch 8/12\n",
            "\u001b[1m402/402\u001b[0m \u001b[32m━━━━━━━━━━━━━━━━━━━━\u001b[0m\u001b[37m\u001b[0m \u001b[1m1s\u001b[0m 2ms/step - accuracy: 0.8879 - loss: 0.3656\n",
            "Epoch 9/12\n",
            "\u001b[1m402/402\u001b[0m \u001b[32m━━━━━━━━━━━━━━━━━━━━\u001b[0m\u001b[37m\u001b[0m \u001b[1m1s\u001b[0m 2ms/step - accuracy: 0.9064 - loss: 0.3148\n",
            "Epoch 10/12\n",
            "\u001b[1m402/402\u001b[0m \u001b[32m━━━━━━━━━━━━━━━━━━━━\u001b[0m\u001b[37m\u001b[0m \u001b[1m1s\u001b[0m 2ms/step - accuracy: 0.9230 - loss: 0.2622\n",
            "Epoch 11/12\n",
            "\u001b[1m402/402\u001b[0m \u001b[32m━━━━━━━━━━━━━━━━━━━━\u001b[0m\u001b[37m\u001b[0m \u001b[1m1s\u001b[0m 2ms/step - accuracy: 0.9356 - loss: 0.2216\n",
            "Epoch 12/12\n",
            "\u001b[1m402/402\u001b[0m \u001b[32m━━━━━━━━━━━━━━━━━━━━\u001b[0m\u001b[37m\u001b[0m \u001b[1m2s\u001b[0m 4ms/step - accuracy: 0.9411 - loss: 0.2017\n"
          ]
        },
        {
          "output_type": "execute_result",
          "data": {
            "text/plain": [
              "<keras.src.callbacks.history.History at 0x7bed43777a50>"
            ]
          },
          "metadata": {},
          "execution_count": 32
        }
      ],
      "source": [
        "mlp_best_model.fit(X_train_scaled, y_train_array, epochs=12)"
      ]
    },
    {
      "cell_type": "code",
      "execution_count": 33,
      "metadata": {
        "id": "iCPHa0-mAz91",
        "colab": {
          "base_uri": "https://localhost:8080/"
        },
        "outputId": "9a5e7a5f-9b45-4afc-ad8f-a0968d85cd84"
      },
      "outputs": [
        {
          "output_type": "stream",
          "name": "stdout",
          "text": [
            "\u001b[1m134/134\u001b[0m \u001b[32m━━━━━━━━━━━━━━━━━━━━\u001b[0m\u001b[37m\u001b[0m \u001b[1m0s\u001b[0m 1ms/step  \n"
          ]
        }
      ],
      "source": [
        "y_test_est = mlp_best_model.predict(X_test_scaled)\n"
      ]
    },
    {
      "cell_type": "code",
      "execution_count": 34,
      "metadata": {
        "id": "vYK6JBXhhYav",
        "colab": {
          "base_uri": "https://localhost:8080/"
        },
        "outputId": "b500614a-8dd1-4a94-aeab-371df069d2f1"
      },
      "outputs": [
        {
          "output_type": "stream",
          "name": "stdout",
          "text": [
            "Number of NaN values in 'label' column in df_test before dropping: 0\n",
            "Number of NaN values in 'label' column in df_test after dropping: 0\n",
            "\u001b[1m134/134\u001b[0m \u001b[32m━━━━━━━━━━━━━━━━━━━━\u001b[0m\u001b[37m\u001b[0m \u001b[1m0s\u001b[0m 1ms/step - accuracy: 0.9328 - loss: 0.2267\n"
          ]
        },
        {
          "output_type": "execute_result",
          "data": {
            "text/plain": [
              "[0.32050782442092896, 0.8996953368186951]"
            ]
          },
          "metadata": {},
          "execution_count": 34
        }
      ],
      "source": [
        "# Check for NaN values in the 'label' column in the test dataset\n",
        "print(\"Number of NaN values in 'label' column in df_test before dropping:\", df_test.label.isna().sum())\n",
        "\n",
        "# Drop rows where the 'label' is NaN specifically from the test dataframe\n",
        "df_test.dropna(subset=['label'], inplace=True)\n",
        "\n",
        "# Re-check for NaN values (should be 0 if any were dropped)\n",
        "print(\"Number of NaN values in 'label' column in df_test after dropping:\", df_test.label.isna().sum())\n",
        "\n",
        "# Convert the 'label' column to integer type after dropping NaNs\n",
        "df_test['label'] = df_test['label'].astype(int)\n",
        "\n",
        "X_test = df_test.iloc[:,:-1]\n",
        "y_test = df_test.iloc[:,-1]\n",
        "\n",
        "# --- Changes Start Here ---\n",
        "# Ensure y_test_array is created from the cleaned df_test for comparison\n",
        "y_test_array = np.array(y_test)\n",
        "# Ensure X_test_scaled is created from the cleaned df_test for comparison\n",
        "X_test_scaled = pd.DataFrame(scaler.transform(X_test), index=X_test.index, columns=X_test.columns)\n",
        "# --- Changes End Here ---\n",
        "\n",
        "\n",
        "# Now proceed with the evaluation\n",
        "mlp_best_model.evaluate(X_test_scaled, y_test_array)"
      ]
    },
    {
      "cell_type": "code",
      "execution_count": 35,
      "metadata": {
        "id": "D---k2XyCDli",
        "colab": {
          "base_uri": "https://localhost:8080/",
          "height": 480
        },
        "outputId": "32b5f06a-087a-4c81-cd06-7b4629da81d3"
      },
      "outputs": [
        {
          "output_type": "display_data",
          "data": {
            "text/plain": [
              "<Figure size 640x480 with 2 Axes>"
            ],
            "image/png": "[encoded data removed]"
          },
          "metadata": {}
        }
      ],
      "source": [
        "cm = confusion_matrix(y_test_array, np.argmax(y_test_est, axis=1))\n",
        "\n",
        "# Display confusion matrix\n",
        "plt.imshow(cm, cmap=plt.cm.Blues)\n",
        "plt.title('Confusion Matrix')\n",
        "plt.colorbar()\n",
        "plt.xlabel('Predicted Labels')\n",
        "plt.ylabel('True Labels')\n",
        "plt.show()"
      ]
    },
    {
      "cell_type": "markdown",
      "metadata": {
        "id": "VqlWY2uKTQQs"
      },
      "source": [
        "### Red neuronal convolucional"
      ]
    },
    {
      "cell_type": "code",
      "execution_count": null,
      "metadata": {
        "id": "wDvdHetAGgjY",
        "colab": {
          "base_uri": "https://localhost:8080/"
        },
        "outputId": "69fa7faa-f254-4d67-8482-73351836b4ae"
      },
      "outputs": [
        {
          "output_type": "stream",
          "name": "stdout",
          "text": [
            "using 27 classes\n",
            "Entrenando modelo max_pooling = True - size_filter_per_layer = [7, 5, 3] - filters_per_layer = [32, 16, 8]\n"
          ]
        }
      ],
      "source": [
        "conv_best_model = get_conv_model(num_classes=27, channels=1, img_size=28, filters_per_layer=[32,16,8], size_filter_per_layer=[7,5,3])"
      ]
    },
    {
      "cell_type": "code",
      "execution_count": null,
      "metadata": {
        "id": "KSKfqUNUH4JQ",
        "colab": {
          "base_uri": "https://localhost:8080/"
        },
        "outputId": "bf78bf03-4dfb-43c1-bbb5-d7a8b6c2ae58"
      },
      "outputs": [
        {
          "output_type": "stream",
          "name": "stdout",
          "text": [
            "Epoch 1/12\n",
            "\u001b[1m402/402\u001b[0m \u001b[32m━━━━━━━━━━━━━━━━━━━━\u001b[0m\u001b[37m\u001b[0m \u001b[1m8s\u001b[0m 10ms/step - accuracy: 0.1157 - loss: 3.0399\n",
            "Epoch 2/12\n",
            "\u001b[1m402/402\u001b[0m \u001b[32m━━━━━━━━━━━━━━━━━━━━\u001b[0m\u001b[37m\u001b[0m \u001b[1m6s\u001b[0m 4ms/step - accuracy: 0.7799 - loss: 0.6794\n",
            "Epoch 3/12\n",
            "\u001b[1m402/402\u001b[0m \u001b[32m━━━━━━━━━━━━━━━━━━━━\u001b[0m\u001b[37m\u001b[0m \u001b[1m2s\u001b[0m 3ms/step - accuracy: 0.9044 - loss: 0.2861\n",
            "Epoch 4/12\n",
            "\u001b[1m402/402\u001b[0m \u001b[32m━━━━━━━━━━━━━━━━━━━━\u001b[0m\u001b[37m\u001b[0m \u001b[1m2s\u001b[0m 6ms/step - accuracy: 0.9421 - loss: 0.1760\n",
            "Epoch 5/12\n",
            "\u001b[1m402/402\u001b[0m \u001b[32m━━━━━━━━━━━━━━━━━━━━\u001b[0m\u001b[37m\u001b[0m \u001b[1m2s\u001b[0m 5ms/step - accuracy: 0.9632 - loss: 0.1130\n",
            "Epoch 6/12\n",
            "\u001b[1m402/402\u001b[0m \u001b[32m━━━━━━━━━━━━━━━━━━━━\u001b[0m\u001b[37m\u001b[0m \u001b[1m1s\u001b[0m 3ms/step - accuracy: 0.9670 - loss: 0.0971\n",
            "Epoch 7/12\n",
            "\u001b[1m402/402\u001b[0m \u001b[32m━━━━━━━━━━━━━━━━━━━━\u001b[0m\u001b[37m\u001b[0m \u001b[1m1s\u001b[0m 3ms/step - accuracy: 0.9782 - loss: 0.0687\n",
            "Epoch 8/12\n",
            "\u001b[1m402/402\u001b[0m \u001b[32m━━━━━━━━━━━━━━━━━━━━\u001b[0m\u001b[37m\u001b[0m \u001b[1m1s\u001b[0m 3ms/step - accuracy: 0.9805 - loss: 0.0595\n",
            "Epoch 9/12\n",
            "\u001b[1m402/402\u001b[0m \u001b[32m━━━━━━━━━━━━━━━━━━━━\u001b[0m\u001b[37m\u001b[0m \u001b[1m1s\u001b[0m 3ms/step - accuracy: 0.9795 - loss: 0.0593\n",
            "Epoch 10/12\n",
            "\u001b[1m402/402\u001b[0m \u001b[32m━━━━━━━━━━━━━━━━━━━━\u001b[0m\u001b[37m\u001b[0m \u001b[1m1s\u001b[0m 3ms/step - accuracy: 0.9820 - loss: 0.0524\n",
            "Epoch 11/12\n",
            "\u001b[1m402/402\u001b[0m \u001b[32m━━━━━━━━━━━━━━━━━━━━\u001b[0m\u001b[37m\u001b[0m \u001b[1m1s\u001b[0m 3ms/step - accuracy: 0.9868 - loss: 0.0379\n",
            "Epoch 12/12\n",
            "\u001b[1m402/402\u001b[0m \u001b[32m━━━━━━━━━━━━━━━━━━━━\u001b[0m\u001b[37m\u001b[0m \u001b[1m2s\u001b[0m 4ms/step - accuracy: 0.9883 - loss: 0.0365\n"
          ]
        },
        {
          "output_type": "execute_result",
          "data": {
            "text/plain": [
              "<keras.src.callbacks.history.History at 0x78715452b190>"
            ]
          },
          "metadata": {},
          "execution_count": 36
        }
      ],
      "source": [
        "conv_best_model.fit(X_train_scaled_2d, y_train_array, epochs=12)"
      ]
    },
    {
      "cell_type": "code",
      "execution_count": null,
      "metadata": {
        "id": "INTWJK7eIjYG",
        "colab": {
          "base_uri": "https://localhost:8080/"
        },
        "outputId": "3fbd4ba9-bf1f-49a6-9599-0994408d518e"
      },
      "outputs": [
        {
          "output_type": "stream",
          "name": "stdout",
          "text": [
            "\u001b[1m134/134\u001b[0m \u001b[32m━━━━━━━━━━━━━━━━━━━━\u001b[0m\u001b[37m\u001b[0m \u001b[1m1s\u001b[0m 5ms/step\n"
          ]
        }
      ],
      "source": [
        "y_test_est = conv_best_model.predict(X_test_scaled_2d)"
      ]
    },
    {
      "cell_type": "code",
      "execution_count": null,
      "metadata": {
        "id": "AR2pYX9cIqYC",
        "colab": {
          "base_uri": "https://localhost:8080/",
          "height": 552
        },
        "outputId": "bbdcc191-34d5-4ff5-8ae7-a6f754181f46"
      },
      "outputs": [
        {
          "output_type": "stream",
          "name": "stdout",
          "text": [
            "Number of NaN values in 'label' column in df_test before dropping: 0\n",
            "Number of NaN values in 'label' column in df_test after dropping: 0\n",
            "\u001b[1m134/134\u001b[0m \u001b[32m━━━━━━━━━━━━━━━━━━━━\u001b[0m\u001b[37m\u001b[0m \u001b[1m0s\u001b[0m 2ms/step\n",
            "\u001b[1m134/134\u001b[0m \u001b[32m━━━━━━━━━━━━━━━━━━━━\u001b[0m\u001b[37m\u001b[0m \u001b[1m1s\u001b[0m 5ms/step - accuracy: 0.9927 - loss: 0.0202\n"
          ]
        },
        {
          "output_type": "display_data",
          "data": {
            "text/plain": [
              "<Figure size 640x480 with 2 Axes>"
            ],
            "image/png": "[encoded data removed]"
          },
          "metadata": {}
        }
      ],
      "source": [
        "# Check for NaN values in the 'label' column in the test dataset\n",
        "print(\"Number of NaN values in 'label' column in df_test before dropping:\", df_test.label.isna().sum())\n",
        "\n",
        "# Drop rows where the 'label' is NaN specifically from the test dataframe\n",
        "df_test.dropna(subset=['label'], inplace=True)\n",
        "\n",
        "# Re-check for NaN values (should be 0 if any were dropped)\n",
        "print(\"Number of NaN values in 'label' column in df_test after dropping:\", df_test.label.isna().sum())\n",
        "\n",
        "# Convert the 'label' column to integer type after dropping NaNs\n",
        "df_test['label'] = df_test['label'].astype(int)\n",
        "\n",
        "# --- Changes Start Here ---\n",
        "# Recreate X_test and y_test from the cleaned df_test\n",
        "X_test = df_test.iloc[:,:-1]\n",
        "y_test = df_test.iloc[:,-1]\n",
        "\n",
        "# Recreate y_test_array from the cleaned y_test\n",
        "y_test_array = np.array(y_test)\n",
        "\n",
        "# Ensure X_test_scaled is created from the cleaned X_test for scaling\n",
        "X_test_scaled = pd.DataFrame(scaler.transform(X_test), index=X_test.index, columns=X_test.columns)\n",
        "\n",
        "# Recreate X_test_scaled_2d from the cleaned and scaled X_test for prediction\n",
        "X_test_scaled_2d = np.reshape(np.array(X_test_scaled), (X_test_scaled.shape[0],28,28))\n",
        "# --- Changes End Here ---\n",
        "\n",
        "\n",
        "# NOW calculate the predictions using the cleaned and scaled test data\n",
        "y_test_est = conv_best_model.predict(X_test_scaled_2d)\n",
        "\n",
        "\n",
        "# Now proceed with the evaluation and confusion matrix calculation\n",
        "conv_best_model.evaluate(X_test_scaled_2d, y_test_array)\n",
        "\n",
        "cm = confusion_matrix(y_test_array, np.argmax(y_test_est, axis=1))\n",
        "\n",
        "# Display confusion matrix\n",
        "plt.imshow(cm, cmap=plt.cm.Blues)\n",
        "plt.title('Confusion Matrix')\n",
        "plt.colorbar()\n",
        "plt.xlabel('Predicted Labels')\n",
        "plt.ylabel('True Labels')\n",
        "plt.show()"
      ]
    },
    {
      "cell_type": "code",
      "execution_count": null,
      "metadata": {
        "id": "Tmz-_VyaJhif",
        "colab": {
          "base_uri": "https://localhost:8080/"
        },
        "outputId": "64bdd625-031e-4338-94bb-738f39c65648"
      },
      "outputs": [
        {
          "output_type": "stream",
          "name": "stdout",
          "text": [
            "\u001b[1m134/134\u001b[0m \u001b[32m━━━━━━━━━━━━━━━━━━━━\u001b[0m\u001b[37m\u001b[0m \u001b[1m0s\u001b[0m 2ms/step - accuracy: 0.9927 - loss: 0.0202\n"
          ]
        },
        {
          "output_type": "execute_result",
          "data": {
            "text/plain": [
              "[0.02162954956293106, 0.9932036399841309]"
            ]
          },
          "metadata": {},
          "execution_count": 39
        }
      ],
      "source": [
        "\n",
        "conv_best_model.evaluate(X_test_scaled_2d, y_test_array)"
      ]
    }
  ],
  "metadata": {
    "colab": {
      "provenance": []
    },
    "kernelspec": {
      "display_name": "Python 3",
      "name": "python3"
    },
    "language_info": {
      "name": "python"
    }
  },
  "nbformat": 4,
  "nbformat_minor": 0
}